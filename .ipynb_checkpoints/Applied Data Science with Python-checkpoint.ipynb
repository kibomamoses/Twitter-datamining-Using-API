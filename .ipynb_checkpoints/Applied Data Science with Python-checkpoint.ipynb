{
 "cells": [
  {
   "cell_type": "markdown",
   "id": "54b1af08",
   "metadata": {},
   "source": [
    "# TASK 1"
   ]
  },
  {
   "cell_type": "markdown",
   "id": "b09a394a",
   "metadata": {},
   "source": [
    "# Twitter network map data extraction, pre-processing,and analysis"
   ]
  },
  {
   "cell_type": "markdown",
   "id": "d0f6f112",
   "metadata": {},
   "source": [
    "## API connection and data extraction from the data source.\n",
    "\n",
    "Here i am going to use tweepy for data extraction"
   ]
  },
  {
   "cell_type": "code",
   "execution_count": 13,
   "id": "806a9a9d",
   "metadata": {},
   "outputs": [
    {
     "name": "stdout",
     "output_type": "stream",
     "text": [
      "Requirement already satisfied: tweepy in c:\\users\\kibom\\appdata\\local\\programs\\python\\python36\\lib\\site-packages (4.4.0)\n",
      "Requirement already satisfied: requests<3,>=2.11.1 in c:\\users\\kibom\\appdata\\local\\programs\\python\\python36\\lib\\site-packages (from tweepy) (2.26.0)\n",
      "Requirement already satisfied: requests-oauthlib<2,>=1.0.0 in c:\\users\\kibom\\appdata\\local\\programs\\python\\python36\\lib\\site-packages (from tweepy) (1.3.0)\n",
      "Requirement already satisfied: idna<4,>=2.5; python_version >= \"3\" in c:\\users\\kibom\\appdata\\local\\programs\\python\\python36\\lib\\site-packages (from requests<3,>=2.11.1->tweepy) (3.3)\n",
      "Requirement already satisfied: certifi>=2017.4.17 in c:\\users\\kibom\\appdata\\local\\programs\\python\\python36\\lib\\site-packages (from requests<3,>=2.11.1->tweepy) (2021.10.8)\n",
      "Requirement already satisfied: urllib3<1.27,>=1.21.1 in c:\\users\\kibom\\appdata\\local\\programs\\python\\python36\\lib\\site-packages (from requests<3,>=2.11.1->tweepy) (1.26.7)\n",
      "Requirement already satisfied: charset-normalizer~=2.0.0; python_version >= \"3\" in c:\\users\\kibom\\appdata\\local\\programs\\python\\python36\\lib\\site-packages (from requests<3,>=2.11.1->tweepy) (2.0.9)\n",
      "Requirement already satisfied: oauthlib>=3.0.0 in c:\\users\\kibom\\appdata\\local\\programs\\python\\python36\\lib\\site-packages (from requests-oauthlib<2,>=1.0.0->tweepy) (3.1.1)\n"
     ]
    },
    {
     "name": "stderr",
     "output_type": "stream",
     "text": [
      "You are using pip version 18.1, however version 21.3.1 is available.\n",
      "You should consider upgrading via the 'python -m pip install --upgrade pip' command.\n"
     ]
    }
   ],
   "source": [
    "!pip install tweepy\n",
    "\n",
    "import tweepy\n",
    "import pandas as pd\n",
    "import numpy as np\n",
    "from tweepy import Stream\n",
    "from tweepy import OAuthHandler\n",
    "from tweepy.streaming import Stream\n",
    "import json\n",
    "import pandas as pd\n",
    "import csv\n",
    "import re #regular expression\n",
    "from textblob import TextBlob\n",
    "import string\n",
    "import preprocessor as p"
   ]
  },
  {
   "cell_type": "code",
   "execution_count": 41,
   "id": "86b658ba",
   "metadata": {},
   "outputs": [],
   "source": [
    "#OAth Handler or jump server/ reverse proxy server\n",
    "\n",
    "consumer_key = \"zMROP87cgsjuWidcAMVNOgSbk\"\n",
    "consumer_secret =\"I4yJ4WiH1ofEtvxABpE3CXZukHn8bgL7lAWU9sXVTkssyXlTem\"\n",
    "\n",
    "#From proxy server we need to connect\n",
    "\n",
    "access_token = \"1465472567272259587-H5gIN692pzRV8BWawafD9Rm2cltErm\"\n",
    "access_token_secret = \"HMOj5s1kfUlJYXCtVaNef0VwDMkTT4Tk53s883CYKH1Jb\""
   ]
  },
  {
   "cell_type": "code",
   "execution_count": 42,
   "id": "47924a9f",
   "metadata": {},
   "outputs": [],
   "source": [
    "#Now the next step is to be connected to jump server of twitter, this can be done with the following command line:\n",
    "auth = tweepy.OAuthHandler(consumer_key, consumer_secret)\n",
    "auth.set_access_token(access_token, access_token_secret)\n",
    "api = tweepy.API(auth, wait_on_rate_limit=True)\n"
   ]
  },
  {
   "cell_type": "code",
   "execution_count": 43,
   "id": "1c0470ac",
   "metadata": {},
   "outputs": [
    {
     "data": {
      "text/plain": [
       "Status(_api=<tweepy.api.API object at 0x000001C7CDC59880>, _json={'created_at': 'Sun Dec 05 12:46:44 +0000 2021', 'id': 1467475526113804294, 'id_str': '1467475526113804294', 'text': 'Testing!', 'truncated': False, 'entities': {'hashtags': [], 'symbols': [], 'user_mentions': [], 'urls': []}, 'source': '<a href=\"https://help.twitter.com/en/using-twitter/how-to-tweet#source-labels\" rel=\"nofollow\">kiboma</a>', 'in_reply_to_status_id': None, 'in_reply_to_status_id_str': None, 'in_reply_to_user_id': None, 'in_reply_to_user_id_str': None, 'in_reply_to_screen_name': None, 'user': {'id': 1465472567272259587, 'id_str': '1465472567272259587', 'name': 'Ahmed', 'screen_name': 'Ahmedfaiq86', 'location': '', 'description': '', 'url': None, 'entities': {'description': {'urls': []}}, 'protected': False, 'followers_count': 0, 'friends_count': 1, 'listed_count': 0, 'created_at': 'Tue Nov 30 00:07:53 +0000 2021', 'favourites_count': 0, 'utc_offset': None, 'time_zone': None, 'geo_enabled': False, 'verified': False, 'statuses_count': 1, 'lang': None, 'contributors_enabled': False, 'is_translator': False, 'is_translation_enabled': False, 'profile_background_color': 'F5F8FA', 'profile_background_image_url': None, 'profile_background_image_url_https': None, 'profile_background_tile': False, 'profile_image_url': 'http://abs.twimg.com/sticky/default_profile_images/default_profile_normal.png', 'profile_image_url_https': 'https://abs.twimg.com/sticky/default_profile_images/default_profile_normal.png', 'profile_link_color': '1DA1F2', 'profile_sidebar_border_color': 'C0DEED', 'profile_sidebar_fill_color': 'DDEEF6', 'profile_text_color': '333333', 'profile_use_background_image': True, 'has_extended_profile': True, 'default_profile': True, 'default_profile_image': True, 'following': False, 'follow_request_sent': False, 'notifications': False, 'translator_type': 'none', 'withheld_in_countries': []}, 'geo': None, 'coordinates': None, 'place': None, 'contributors': None, 'is_quote_status': False, 'retweet_count': 0, 'favorite_count': 0, 'favorited': False, 'retweeted': False, 'lang': 'en'}, created_at=datetime.datetime(2021, 12, 5, 12, 46, 44, tzinfo=datetime.timezone.utc), id=1467475526113804294, id_str='1467475526113804294', text='Testing!', truncated=False, entities={'hashtags': [], 'symbols': [], 'user_mentions': [], 'urls': []}, source='kiboma', source_url='https://help.twitter.com/en/using-twitter/how-to-tweet#source-labels', in_reply_to_status_id=None, in_reply_to_status_id_str=None, in_reply_to_user_id=None, in_reply_to_user_id_str=None, in_reply_to_screen_name=None, author=User(_api=<tweepy.api.API object at 0x000001C7CDC59880>, _json={'id': 1465472567272259587, 'id_str': '1465472567272259587', 'name': 'Ahmed', 'screen_name': 'Ahmedfaiq86', 'location': '', 'description': '', 'url': None, 'entities': {'description': {'urls': []}}, 'protected': False, 'followers_count': 0, 'friends_count': 1, 'listed_count': 0, 'created_at': 'Tue Nov 30 00:07:53 +0000 2021', 'favourites_count': 0, 'utc_offset': None, 'time_zone': None, 'geo_enabled': False, 'verified': False, 'statuses_count': 1, 'lang': None, 'contributors_enabled': False, 'is_translator': False, 'is_translation_enabled': False, 'profile_background_color': 'F5F8FA', 'profile_background_image_url': None, 'profile_background_image_url_https': None, 'profile_background_tile': False, 'profile_image_url': 'http://abs.twimg.com/sticky/default_profile_images/default_profile_normal.png', 'profile_image_url_https': 'https://abs.twimg.com/sticky/default_profile_images/default_profile_normal.png', 'profile_link_color': '1DA1F2', 'profile_sidebar_border_color': 'C0DEED', 'profile_sidebar_fill_color': 'DDEEF6', 'profile_text_color': '333333', 'profile_use_background_image': True, 'has_extended_profile': True, 'default_profile': True, 'default_profile_image': True, 'following': False, 'follow_request_sent': False, 'notifications': False, 'translator_type': 'none', 'withheld_in_countries': []}, id=1465472567272259587, id_str='1465472567272259587', name='Ahmed', screen_name='Ahmedfaiq86', location='', description='', url=None, entities={'description': {'urls': []}}, protected=False, followers_count=0, friends_count=1, listed_count=0, created_at=datetime.datetime(2021, 11, 30, 0, 7, 53, tzinfo=datetime.timezone.utc), favourites_count=0, utc_offset=None, time_zone=None, geo_enabled=False, verified=False, statuses_count=1, lang=None, contributors_enabled=False, is_translator=False, is_translation_enabled=False, profile_background_color='F5F8FA', profile_background_image_url=None, profile_background_image_url_https=None, profile_background_tile=False, profile_image_url='http://abs.twimg.com/sticky/default_profile_images/default_profile_normal.png', profile_image_url_https='https://abs.twimg.com/sticky/default_profile_images/default_profile_normal.png', profile_link_color='1DA1F2', profile_sidebar_border_color='C0DEED', profile_sidebar_fill_color='DDEEF6', profile_text_color='333333', profile_use_background_image=True, has_extended_profile=True, default_profile=True, default_profile_image=True, following=False, follow_request_sent=False, notifications=False, translator_type='none', withheld_in_countries=[]), user=User(_api=<tweepy.api.API object at 0x000001C7CDC59880>, _json={'id': 1465472567272259587, 'id_str': '1465472567272259587', 'name': 'Ahmed', 'screen_name': 'Ahmedfaiq86', 'location': '', 'description': '', 'url': None, 'entities': {'description': {'urls': []}}, 'protected': False, 'followers_count': 0, 'friends_count': 1, 'listed_count': 0, 'created_at': 'Tue Nov 30 00:07:53 +0000 2021', 'favourites_count': 0, 'utc_offset': None, 'time_zone': None, 'geo_enabled': False, 'verified': False, 'statuses_count': 1, 'lang': None, 'contributors_enabled': False, 'is_translator': False, 'is_translation_enabled': False, 'profile_background_color': 'F5F8FA', 'profile_background_image_url': None, 'profile_background_image_url_https': None, 'profile_background_tile': False, 'profile_image_url': 'http://abs.twimg.com/sticky/default_profile_images/default_profile_normal.png', 'profile_image_url_https': 'https://abs.twimg.com/sticky/default_profile_images/default_profile_normal.png', 'profile_link_color': '1DA1F2', 'profile_sidebar_border_color': 'C0DEED', 'profile_sidebar_fill_color': 'DDEEF6', 'profile_text_color': '333333', 'profile_use_background_image': True, 'has_extended_profile': True, 'default_profile': True, 'default_profile_image': True, 'following': False, 'follow_request_sent': False, 'notifications': False, 'translator_type': 'none', 'withheld_in_countries': []}, id=1465472567272259587, id_str='1465472567272259587', name='Ahmed', screen_name='Ahmedfaiq86', location='', description='', url=None, entities={'description': {'urls': []}}, protected=False, followers_count=0, friends_count=1, listed_count=0, created_at=datetime.datetime(2021, 11, 30, 0, 7, 53, tzinfo=datetime.timezone.utc), favourites_count=0, utc_offset=None, time_zone=None, geo_enabled=False, verified=False, statuses_count=1, lang=None, contributors_enabled=False, is_translator=False, is_translation_enabled=False, profile_background_color='F5F8FA', profile_background_image_url=None, profile_background_image_url_https=None, profile_background_tile=False, profile_image_url='http://abs.twimg.com/sticky/default_profile_images/default_profile_normal.png', profile_image_url_https='https://abs.twimg.com/sticky/default_profile_images/default_profile_normal.png', profile_link_color='1DA1F2', profile_sidebar_border_color='C0DEED', profile_sidebar_fill_color='DDEEF6', profile_text_color='333333', profile_use_background_image=True, has_extended_profile=True, default_profile=True, default_profile_image=True, following=False, follow_request_sent=False, notifications=False, translator_type='none', withheld_in_countries=[]), geo=None, coordinates=None, place=None, contributors=None, is_quote_status=False, retweet_count=0, favorite_count=0, favorited=False, retweeted=False, lang='en')"
      ]
     },
     "execution_count": 43,
     "metadata": {},
     "output_type": "execute_result"
    }
   ],
   "source": [
    "#Test if connection is successful\n",
    "status = \"Testing!\"\n",
    "api.update_status(status=status)"
   ]
  },
  {
   "cell_type": "code",
   "execution_count": 98,
   "id": "23f99530",
   "metadata": {},
   "outputs": [],
   "source": [
    "#scraping tweets of cryptocurrency (bitcoin) in language mode as English, with taking count of total tweets as 300\n",
    "public_tweets = api.search_tweets('bitcoin', count=3000, lang='en', tweet_mode='extended')"
   ]
  },
  {
   "cell_type": "markdown",
   "id": "36454710",
   "metadata": {},
   "source": [
    "# Data Pre-processing"
   ]
  },
  {
   "cell_type": "code",
   "execution_count": 99,
   "id": "000ecc10",
   "metadata": {},
   "outputs": [
    {
     "data": {
      "text/html": [
       "<div>\n",
       "<style scoped>\n",
       "    .dataframe tbody tr th:only-of-type {\n",
       "        vertical-align: middle;\n",
       "    }\n",
       "\n",
       "    .dataframe tbody tr th {\n",
       "        vertical-align: top;\n",
       "    }\n",
       "\n",
       "    .dataframe thead th {\n",
       "        text-align: right;\n",
       "    }\n",
       "</style>\n",
       "<table border=\"1\" class=\"dataframe\">\n",
       "  <thead>\n",
       "    <tr style=\"text-align: right;\">\n",
       "      <th></th>\n",
       "      <th>original_Tweets</th>\n",
       "    </tr>\n",
       "  </thead>\n",
       "  <tbody>\n",
       "    <tr>\n",
       "      <th>0</th>\n",
       "      <td>RT @TheCryptoLark: Inflation is real, inflatio...</td>\n",
       "    </tr>\n",
       "    <tr>\n",
       "      <th>1</th>\n",
       "      <td>RT @nntaleb: So looks like\\n1- Bitcoin is no h...</td>\n",
       "    </tr>\n",
       "    <tr>\n",
       "      <th>2</th>\n",
       "      <td>Insider's Guide To College Success: The Underg...</td>\n",
       "    </tr>\n",
       "    <tr>\n",
       "      <th>3</th>\n",
       "      <td>@akitavax Amazing project happy to be a part o...</td>\n",
       "    </tr>\n",
       "    <tr>\n",
       "      <th>4</th>\n",
       "      <td>RT @AirdropStario: 💧 Edain Airdrop 💧\\n\\n🏆 Task...</td>\n",
       "    </tr>\n",
       "    <tr>\n",
       "      <th>5</th>\n",
       "      <td>RT @airdropinspect: New airdrop: Polygen (PGEN...</td>\n",
       "    </tr>\n",
       "    <tr>\n",
       "      <th>6</th>\n",
       "      <td>RT @EvanLeeDyer: @AnbroNFT @TheMaskSociety_ Ta...</td>\n",
       "    </tr>\n",
       "    <tr>\n",
       "      <th>7</th>\n",
       "      <td>RT @AirdropStario: 💧 Art Tech 86 Airdrop 💧\\n\\n...</td>\n",
       "    </tr>\n",
       "    <tr>\n",
       "      <th>8</th>\n",
       "      <td>RT @AirdropStario: 💧 Art Tech 86 Airdrop 💧\\n\\n...</td>\n",
       "    </tr>\n",
       "    <tr>\n",
       "      <th>9</th>\n",
       "      <td>RT @TheDefiJedi: $50 #Giveaway 🎄💸\\n \\nTo win 🏆...</td>\n",
       "    </tr>\n",
       "  </tbody>\n",
       "</table>\n",
       "</div>"
      ],
      "text/plain": [
       "                                     original_Tweets\n",
       "0  RT @TheCryptoLark: Inflation is real, inflatio...\n",
       "1  RT @nntaleb: So looks like\\n1- Bitcoin is no h...\n",
       "2  Insider's Guide To College Success: The Underg...\n",
       "3  @akitavax Amazing project happy to be a part o...\n",
       "4  RT @AirdropStario: 💧 Edain Airdrop 💧\\n\\n🏆 Task...\n",
       "5  RT @airdropinspect: New airdrop: Polygen (PGEN...\n",
       "6  RT @EvanLeeDyer: @AnbroNFT @TheMaskSociety_ Ta...\n",
       "7  RT @AirdropStario: 💧 Art Tech 86 Airdrop 💧\\n\\n...\n",
       "8  RT @AirdropStario: 💧 Art Tech 86 Airdrop 💧\\n\\n...\n",
       "9  RT @TheDefiJedi: $50 #Giveaway 🎄💸\\n \\nTo win 🏆..."
      ]
     },
     "execution_count": 99,
     "metadata": {},
     "output_type": "execute_result"
    }
   ],
   "source": [
    "#Will now create a pandas dataframe as follows:\n",
    "df = pd.DataFrame(data=[tweet.full_text for tweet in public_tweets], columns=['original_Tweets'])\n",
    "df.head(10)"
   ]
  },
  {
   "cell_type": "code",
   "execution_count": 100,
   "id": "01e5fef5",
   "metadata": {},
   "outputs": [
    {
     "data": {
      "text/html": [
       "<div>\n",
       "<style scoped>\n",
       "    .dataframe tbody tr th:only-of-type {\n",
       "        vertical-align: middle;\n",
       "    }\n",
       "\n",
       "    .dataframe tbody tr th {\n",
       "        vertical-align: top;\n",
       "    }\n",
       "\n",
       "    .dataframe thead th {\n",
       "        text-align: right;\n",
       "    }\n",
       "</style>\n",
       "<table border=\"1\" class=\"dataframe\">\n",
       "  <thead>\n",
       "    <tr style=\"text-align: right;\">\n",
       "      <th></th>\n",
       "      <th>original_Tweets</th>\n",
       "      <th>len</th>\n",
       "      <th>ID</th>\n",
       "      <th>Date</th>\n",
       "      <th>Source</th>\n",
       "      <th>Likes</th>\n",
       "      <th>RTs</th>\n",
       "    </tr>\n",
       "  </thead>\n",
       "  <tbody>\n",
       "    <tr>\n",
       "      <th>0</th>\n",
       "      <td>RT @TheCryptoLark: Inflation is real, inflatio...</td>\n",
       "      <td>140</td>\n",
       "      <td>1467490532658233351</td>\n",
       "      <td>2021-12-05 13:46:22+00:00</td>\n",
       "      <td>Twitter for Android</td>\n",
       "      <td>0</td>\n",
       "      <td>874</td>\n",
       "    </tr>\n",
       "    <tr>\n",
       "      <th>1</th>\n",
       "      <td>RT @nntaleb: So looks like\\n1- Bitcoin is no h...</td>\n",
       "      <td>140</td>\n",
       "      <td>1467490532318453764</td>\n",
       "      <td>2021-12-05 13:46:22+00:00</td>\n",
       "      <td>Twitter for iPhone</td>\n",
       "      <td>0</td>\n",
       "      <td>1014</td>\n",
       "    </tr>\n",
       "    <tr>\n",
       "      <th>2</th>\n",
       "      <td>Insider's Guide To College Success: The Underg...</td>\n",
       "      <td>276</td>\n",
       "      <td>1467490529957056517</td>\n",
       "      <td>2021-12-05 13:46:21+00:00</td>\n",
       "      <td>IFTTT</td>\n",
       "      <td>0</td>\n",
       "      <td>0</td>\n",
       "    </tr>\n",
       "    <tr>\n",
       "      <th>3</th>\n",
       "      <td>@akitavax Amazing project happy to be a part o...</td>\n",
       "      <td>202</td>\n",
       "      <td>1467490529508147208</td>\n",
       "      <td>2021-12-05 13:46:21+00:00</td>\n",
       "      <td>Twitter for Android</td>\n",
       "      <td>0</td>\n",
       "      <td>0</td>\n",
       "    </tr>\n",
       "    <tr>\n",
       "      <th>4</th>\n",
       "      <td>RT @AirdropStario: 💧 Edain Airdrop 💧\\n\\n🏆 Task...</td>\n",
       "      <td>140</td>\n",
       "      <td>1467490526823858180</td>\n",
       "      <td>2021-12-05 13:46:20+00:00</td>\n",
       "      <td>Twitter for Android</td>\n",
       "      <td>0</td>\n",
       "      <td>1940</td>\n",
       "    </tr>\n",
       "    <tr>\n",
       "      <th>5</th>\n",
       "      <td>RT @airdropinspect: New airdrop: Polygen (PGEN...</td>\n",
       "      <td>144</td>\n",
       "      <td>1467490525439660036</td>\n",
       "      <td>2021-12-05 13:46:20+00:00</td>\n",
       "      <td>Twitter for Android</td>\n",
       "      <td>0</td>\n",
       "      <td>16470</td>\n",
       "    </tr>\n",
       "    <tr>\n",
       "      <th>6</th>\n",
       "      <td>RT @EvanLeeDyer: @AnbroNFT @TheMaskSociety_ Ta...</td>\n",
       "      <td>140</td>\n",
       "      <td>1467490524617744389</td>\n",
       "      <td>2021-12-05 13:46:20+00:00</td>\n",
       "      <td>Twitter for iPhone</td>\n",
       "      <td>0</td>\n",
       "      <td>3</td>\n",
       "    </tr>\n",
       "    <tr>\n",
       "      <th>7</th>\n",
       "      <td>RT @AirdropStario: 💧 Art Tech 86 Airdrop 💧\\n\\n...</td>\n",
       "      <td>140</td>\n",
       "      <td>1467490523703169032</td>\n",
       "      <td>2021-12-05 13:46:20+00:00</td>\n",
       "      <td>Twitter for Android</td>\n",
       "      <td>0</td>\n",
       "      <td>792</td>\n",
       "    </tr>\n",
       "    <tr>\n",
       "      <th>8</th>\n",
       "      <td>RT @AirdropStario: 💧 Art Tech 86 Airdrop 💧\\n\\n...</td>\n",
       "      <td>140</td>\n",
       "      <td>1467490523048857602</td>\n",
       "      <td>2021-12-05 13:46:20+00:00</td>\n",
       "      <td>Twitter Web App</td>\n",
       "      <td>0</td>\n",
       "      <td>792</td>\n",
       "    </tr>\n",
       "    <tr>\n",
       "      <th>9</th>\n",
       "      <td>RT @TheDefiJedi: $50 #Giveaway 🎄💸\\n \\nTo win 🏆...</td>\n",
       "      <td>140</td>\n",
       "      <td>1467490521644154880</td>\n",
       "      <td>2021-12-05 13:46:19+00:00</td>\n",
       "      <td>Twitter for Android</td>\n",
       "      <td>0</td>\n",
       "      <td>2435</td>\n",
       "    </tr>\n",
       "  </tbody>\n",
       "</table>\n",
       "</div>"
      ],
      "text/plain": [
       "                                     original_Tweets  len  \\\n",
       "0  RT @TheCryptoLark: Inflation is real, inflatio...  140   \n",
       "1  RT @nntaleb: So looks like\\n1- Bitcoin is no h...  140   \n",
       "2  Insider's Guide To College Success: The Underg...  276   \n",
       "3  @akitavax Amazing project happy to be a part o...  202   \n",
       "4  RT @AirdropStario: 💧 Edain Airdrop 💧\\n\\n🏆 Task...  140   \n",
       "5  RT @airdropinspect: New airdrop: Polygen (PGEN...  144   \n",
       "6  RT @EvanLeeDyer: @AnbroNFT @TheMaskSociety_ Ta...  140   \n",
       "7  RT @AirdropStario: 💧 Art Tech 86 Airdrop 💧\\n\\n...  140   \n",
       "8  RT @AirdropStario: 💧 Art Tech 86 Airdrop 💧\\n\\n...  140   \n",
       "9  RT @TheDefiJedi: $50 #Giveaway 🎄💸\\n \\nTo win 🏆...  140   \n",
       "\n",
       "                    ID                      Date               Source  Likes  \\\n",
       "0  1467490532658233351 2021-12-05 13:46:22+00:00  Twitter for Android      0   \n",
       "1  1467490532318453764 2021-12-05 13:46:22+00:00   Twitter for iPhone      0   \n",
       "2  1467490529957056517 2021-12-05 13:46:21+00:00                IFTTT      0   \n",
       "3  1467490529508147208 2021-12-05 13:46:21+00:00  Twitter for Android      0   \n",
       "4  1467490526823858180 2021-12-05 13:46:20+00:00  Twitter for Android      0   \n",
       "5  1467490525439660036 2021-12-05 13:46:20+00:00  Twitter for Android      0   \n",
       "6  1467490524617744389 2021-12-05 13:46:20+00:00   Twitter for iPhone      0   \n",
       "7  1467490523703169032 2021-12-05 13:46:20+00:00  Twitter for Android      0   \n",
       "8  1467490523048857602 2021-12-05 13:46:20+00:00      Twitter Web App      0   \n",
       "9  1467490521644154880 2021-12-05 13:46:19+00:00  Twitter for Android      0   \n",
       "\n",
       "     RTs  \n",
       "0    874  \n",
       "1   1014  \n",
       "2      0  \n",
       "3      0  \n",
       "4   1940  \n",
       "5  16470  \n",
       "6      3  \n",
       "7    792  \n",
       "8    792  \n",
       "9   2435  "
      ]
     },
     "metadata": {},
     "output_type": "display_data"
    }
   ],
   "source": [
    "df['len'] = np.array([len(tweet.full_text) for tweet in public_tweets])\n",
    "df['ID']  = np.array([tweet.id for tweet in public_tweets])\n",
    "df['Date'] = np.array([tweet.created_at for tweet in public_tweets])\n",
    "df['Source'] = np.array([tweet.source for tweet in public_tweets])\n",
    "df['Likes'] = np.array([tweet.favorite_count for tweet in public_tweets])\n",
    "df['RTs']  = np.array([tweet.retweet_count for tweet in public_tweets])\n",
    "display(df.head(10))"
   ]
  },
  {
   "cell_type": "code",
   "execution_count": 101,
   "id": "5de9366a",
   "metadata": {},
   "outputs": [],
   "source": [
    "# Now its time to store the data frame in CSV file for further usage.\n",
    "df.to_csv('bitcointweets.csv')"
   ]
  },
  {
   "cell_type": "markdown",
   "id": "10de1cb7",
   "metadata": {},
   "source": [
    "## Data Cleaning with Using tweet-preprocessor Preprocessor \n",
    "\n",
    "Here we will use the data that we have extracted from twitter"
   ]
  },
  {
   "cell_type": "code",
   "execution_count": 93,
   "id": "dc26b052",
   "metadata": {},
   "outputs": [
    {
     "name": "stdout",
     "output_type": "stream",
     "text": [
      "Requirement already satisfied: preprocessor in c:\\users\\kibom\\appdata\\local\\programs\\python\\python36\\lib\\site-packages (1.1.3)\n"
     ]
    },
    {
     "name": "stderr",
     "output_type": "stream",
     "text": [
      "You are using pip version 18.1, however version 21.3.1 is available.\n",
      "You should consider upgrading via the 'python -m pip install --upgrade pip' command.\n"
     ]
    }
   ],
   "source": [
    "!pip install preprocessor\n",
    "\n",
    "import preprocessor as p"
   ]
  },
  {
   "cell_type": "code",
   "execution_count": 94,
   "id": "8ab94df4",
   "metadata": {},
   "outputs": [
    {
     "name": "stderr",
     "output_type": "stream",
     "text": [
      "[nltk_data] Downloading package stopwords to\n",
      "[nltk_data]     C:\\Users\\kibom\\AppData\\Roaming\\nltk_data...\n",
      "[nltk_data]   Package stopwords is already up-to-date!\n"
     ]
    }
   ],
   "source": [
    "import nltk\n",
    "from nltk import sent_tokenize, word_tokenize\n",
    "from nltk.stem.snowball import SnowballStemmer\n",
    "from nltk.stem.wordnet import WordNetLemmatizer\n",
    "from nltk.corpus import stopwords\n",
    "import re\n",
    "import string\n",
    "nltk.download('stopwords')\n",
    "stopwords = stopwords.words('english')\n",
    "ps= nltk.PorterStemmer()"
   ]
  },
  {
   "cell_type": "code",
   "execution_count": 102,
   "id": "607decea",
   "metadata": {},
   "outputs": [
    {
     "data": {
      "text/html": [
       "<div>\n",
       "<style scoped>\n",
       "    .dataframe tbody tr th:only-of-type {\n",
       "        vertical-align: middle;\n",
       "    }\n",
       "\n",
       "    .dataframe tbody tr th {\n",
       "        vertical-align: top;\n",
       "    }\n",
       "\n",
       "    .dataframe thead th {\n",
       "        text-align: right;\n",
       "    }\n",
       "</style>\n",
       "<table border=\"1\" class=\"dataframe\">\n",
       "  <thead>\n",
       "    <tr style=\"text-align: right;\">\n",
       "      <th></th>\n",
       "      <th>Unnamed: 0</th>\n",
       "      <th>original_Tweets</th>\n",
       "      <th>len</th>\n",
       "      <th>ID</th>\n",
       "      <th>Date</th>\n",
       "      <th>Source</th>\n",
       "      <th>Likes</th>\n",
       "      <th>RTs</th>\n",
       "    </tr>\n",
       "  </thead>\n",
       "  <tbody>\n",
       "    <tr>\n",
       "      <th>0</th>\n",
       "      <td>0</td>\n",
       "      <td>RT @TheCryptoLark: Inflation is real, inflatio...</td>\n",
       "      <td>140</td>\n",
       "      <td>1467490532658233351</td>\n",
       "      <td>2021-12-05 13:46:22+00:00</td>\n",
       "      <td>Twitter for Android</td>\n",
       "      <td>0</td>\n",
       "      <td>874</td>\n",
       "    </tr>\n",
       "    <tr>\n",
       "      <th>1</th>\n",
       "      <td>1</td>\n",
       "      <td>RT @nntaleb: So looks like\\n1- Bitcoin is no h...</td>\n",
       "      <td>140</td>\n",
       "      <td>1467490532318453764</td>\n",
       "      <td>2021-12-05 13:46:22+00:00</td>\n",
       "      <td>Twitter for iPhone</td>\n",
       "      <td>0</td>\n",
       "      <td>1014</td>\n",
       "    </tr>\n",
       "    <tr>\n",
       "      <th>2</th>\n",
       "      <td>2</td>\n",
       "      <td>Insider's Guide To College Success: The Underg...</td>\n",
       "      <td>276</td>\n",
       "      <td>1467490529957056517</td>\n",
       "      <td>2021-12-05 13:46:21+00:00</td>\n",
       "      <td>IFTTT</td>\n",
       "      <td>0</td>\n",
       "      <td>0</td>\n",
       "    </tr>\n",
       "    <tr>\n",
       "      <th>3</th>\n",
       "      <td>3</td>\n",
       "      <td>@akitavax Amazing project happy to be a part o...</td>\n",
       "      <td>202</td>\n",
       "      <td>1467490529508147208</td>\n",
       "      <td>2021-12-05 13:46:21+00:00</td>\n",
       "      <td>Twitter for Android</td>\n",
       "      <td>0</td>\n",
       "      <td>0</td>\n",
       "    </tr>\n",
       "    <tr>\n",
       "      <th>4</th>\n",
       "      <td>4</td>\n",
       "      <td>RT @AirdropStario: 💧 Edain Airdrop 💧\\n\\n🏆 Task...</td>\n",
       "      <td>140</td>\n",
       "      <td>1467490526823858180</td>\n",
       "      <td>2021-12-05 13:46:20+00:00</td>\n",
       "      <td>Twitter for Android</td>\n",
       "      <td>0</td>\n",
       "      <td>1940</td>\n",
       "    </tr>\n",
       "  </tbody>\n",
       "</table>\n",
       "</div>"
      ],
      "text/plain": [
       "   Unnamed: 0                                    original_Tweets  len  \\\n",
       "0           0  RT @TheCryptoLark: Inflation is real, inflatio...  140   \n",
       "1           1  RT @nntaleb: So looks like\\n1- Bitcoin is no h...  140   \n",
       "2           2  Insider's Guide To College Success: The Underg...  276   \n",
       "3           3  @akitavax Amazing project happy to be a part o...  202   \n",
       "4           4  RT @AirdropStario: 💧 Edain Airdrop 💧\\n\\n🏆 Task...  140   \n",
       "\n",
       "                    ID                       Date               Source  Likes  \\\n",
       "0  1467490532658233351  2021-12-05 13:46:22+00:00  Twitter for Android      0   \n",
       "1  1467490532318453764  2021-12-05 13:46:22+00:00   Twitter for iPhone      0   \n",
       "2  1467490529957056517  2021-12-05 13:46:21+00:00                IFTTT      0   \n",
       "3  1467490529508147208  2021-12-05 13:46:21+00:00  Twitter for Android      0   \n",
       "4  1467490526823858180  2021-12-05 13:46:20+00:00  Twitter for Android      0   \n",
       "\n",
       "    RTs  \n",
       "0   874  \n",
       "1  1014  \n",
       "2     0  \n",
       "3     0  \n",
       "4  1940  "
      ]
     },
     "execution_count": 102,
     "metadata": {},
     "output_type": "execute_result"
    }
   ],
   "source": [
    "df = pd.read_csv('bitcointweets.csv')\n",
    "df.head()"
   ]
  },
  {
   "cell_type": "code",
   "execution_count": 103,
   "id": "f8775883",
   "metadata": {},
   "outputs": [
    {
     "data": {
      "text/html": [
       "<div>\n",
       "<style scoped>\n",
       "    .dataframe tbody tr th:only-of-type {\n",
       "        vertical-align: middle;\n",
       "    }\n",
       "\n",
       "    .dataframe tbody tr th {\n",
       "        vertical-align: top;\n",
       "    }\n",
       "\n",
       "    .dataframe thead th {\n",
       "        text-align: right;\n",
       "    }\n",
       "</style>\n",
       "<table border=\"1\" class=\"dataframe\">\n",
       "  <thead>\n",
       "    <tr style=\"text-align: right;\">\n",
       "      <th></th>\n",
       "      <th>Unnamed: 0</th>\n",
       "      <th>original_Tweets</th>\n",
       "      <th>len</th>\n",
       "      <th>ID</th>\n",
       "      <th>Date</th>\n",
       "      <th>Source</th>\n",
       "      <th>Likes</th>\n",
       "      <th>RTs</th>\n",
       "    </tr>\n",
       "  </thead>\n",
       "  <tbody>\n",
       "    <tr>\n",
       "      <th>95</th>\n",
       "      <td>95</td>\n",
       "      <td>RT @AirdropStario: 💧 Art Tech 86 Airdrop 💧\\n\\n...</td>\n",
       "      <td>140</td>\n",
       "      <td>1467490402546507782</td>\n",
       "      <td>2021-12-05 13:45:51+00:00</td>\n",
       "      <td>Twitter for Android</td>\n",
       "      <td>0</td>\n",
       "      <td>792</td>\n",
       "    </tr>\n",
       "    <tr>\n",
       "      <th>96</th>\n",
       "      <td>96</td>\n",
       "      <td>RT @AirdropStario: 💧 OkLetsPlay Airdrop 💧\\n\\n📍...</td>\n",
       "      <td>140</td>\n",
       "      <td>1467490397572120576</td>\n",
       "      <td>2021-12-05 13:45:50+00:00</td>\n",
       "      <td>Twitter Web App</td>\n",
       "      <td>0</td>\n",
       "      <td>7423</td>\n",
       "    </tr>\n",
       "    <tr>\n",
       "      <th>97</th>\n",
       "      <td>97</td>\n",
       "      <td>RT @TuurDemeester: Best Bitcoin Track of 2021....</td>\n",
       "      <td>90</td>\n",
       "      <td>1467490396951486464</td>\n",
       "      <td>2021-12-05 13:45:49+00:00</td>\n",
       "      <td>Twitter for iPhone</td>\n",
       "      <td>0</td>\n",
       "      <td>5</td>\n",
       "    </tr>\n",
       "    <tr>\n",
       "      <th>98</th>\n",
       "      <td>98</td>\n",
       "      <td>@connectgurmeet @safiranand Bitcoin\\n\\n1 Jan 2...</td>\n",
       "      <td>281</td>\n",
       "      <td>1467490396871692292</td>\n",
       "      <td>2021-12-05 13:45:49+00:00</td>\n",
       "      <td>Twitter Web App</td>\n",
       "      <td>0</td>\n",
       "      <td>0</td>\n",
       "    </tr>\n",
       "    <tr>\n",
       "      <th>99</th>\n",
       "      <td>99</td>\n",
       "      <td>RT @BitcoinFear: Bitcoin Fear and Greed Index ...</td>\n",
       "      <td>113</td>\n",
       "      <td>1467490392518139915</td>\n",
       "      <td>2021-12-05 13:45:48+00:00</td>\n",
       "      <td>Twitter for iPhone</td>\n",
       "      <td>0</td>\n",
       "      <td>251</td>\n",
       "    </tr>\n",
       "  </tbody>\n",
       "</table>\n",
       "</div>"
      ],
      "text/plain": [
       "    Unnamed: 0                                    original_Tweets  len  \\\n",
       "95          95  RT @AirdropStario: 💧 Art Tech 86 Airdrop 💧\\n\\n...  140   \n",
       "96          96  RT @AirdropStario: 💧 OkLetsPlay Airdrop 💧\\n\\n📍...  140   \n",
       "97          97  RT @TuurDemeester: Best Bitcoin Track of 2021....   90   \n",
       "98          98  @connectgurmeet @safiranand Bitcoin\\n\\n1 Jan 2...  281   \n",
       "99          99  RT @BitcoinFear: Bitcoin Fear and Greed Index ...  113   \n",
       "\n",
       "                     ID                       Date               Source  \\\n",
       "95  1467490402546507782  2021-12-05 13:45:51+00:00  Twitter for Android   \n",
       "96  1467490397572120576  2021-12-05 13:45:50+00:00      Twitter Web App   \n",
       "97  1467490396951486464  2021-12-05 13:45:49+00:00   Twitter for iPhone   \n",
       "98  1467490396871692292  2021-12-05 13:45:49+00:00      Twitter Web App   \n",
       "99  1467490392518139915  2021-12-05 13:45:48+00:00   Twitter for iPhone   \n",
       "\n",
       "    Likes   RTs  \n",
       "95      0   792  \n",
       "96      0  7423  \n",
       "97      0     5  \n",
       "98      0     0  \n",
       "99      0   251  "
      ]
     },
     "execution_count": 103,
     "metadata": {},
     "output_type": "execute_result"
    }
   ],
   "source": [
    "#displayinf last five rows of dataset\n",
    "df.tail()"
   ]
  },
  {
   "cell_type": "code",
   "execution_count": 105,
   "id": "c77a234e",
   "metadata": {},
   "outputs": [
    {
     "data": {
      "text/html": [
       "<div>\n",
       "<style scoped>\n",
       "    .dataframe tbody tr th:only-of-type {\n",
       "        vertical-align: middle;\n",
       "    }\n",
       "\n",
       "    .dataframe tbody tr th {\n",
       "        vertical-align: top;\n",
       "    }\n",
       "\n",
       "    .dataframe thead th {\n",
       "        text-align: right;\n",
       "    }\n",
       "</style>\n",
       "<table border=\"1\" class=\"dataframe\">\n",
       "  <thead>\n",
       "    <tr style=\"text-align: right;\">\n",
       "      <th></th>\n",
       "      <th>Unnamed: 0</th>\n",
       "      <th>original_Tweets</th>\n",
       "      <th>len</th>\n",
       "      <th>ID</th>\n",
       "      <th>Date</th>\n",
       "      <th>Source</th>\n",
       "      <th>Likes</th>\n",
       "      <th>RTs</th>\n",
       "    </tr>\n",
       "  </thead>\n",
       "  <tbody>\n",
       "    <tr>\n",
       "      <th>0</th>\n",
       "      <td>False</td>\n",
       "      <td>False</td>\n",
       "      <td>False</td>\n",
       "      <td>False</td>\n",
       "      <td>False</td>\n",
       "      <td>False</td>\n",
       "      <td>False</td>\n",
       "      <td>False</td>\n",
       "    </tr>\n",
       "    <tr>\n",
       "      <th>1</th>\n",
       "      <td>False</td>\n",
       "      <td>False</td>\n",
       "      <td>False</td>\n",
       "      <td>False</td>\n",
       "      <td>False</td>\n",
       "      <td>False</td>\n",
       "      <td>False</td>\n",
       "      <td>False</td>\n",
       "    </tr>\n",
       "    <tr>\n",
       "      <th>2</th>\n",
       "      <td>False</td>\n",
       "      <td>False</td>\n",
       "      <td>False</td>\n",
       "      <td>False</td>\n",
       "      <td>False</td>\n",
       "      <td>False</td>\n",
       "      <td>False</td>\n",
       "      <td>False</td>\n",
       "    </tr>\n",
       "    <tr>\n",
       "      <th>3</th>\n",
       "      <td>False</td>\n",
       "      <td>False</td>\n",
       "      <td>False</td>\n",
       "      <td>False</td>\n",
       "      <td>False</td>\n",
       "      <td>False</td>\n",
       "      <td>False</td>\n",
       "      <td>False</td>\n",
       "    </tr>\n",
       "    <tr>\n",
       "      <th>4</th>\n",
       "      <td>False</td>\n",
       "      <td>False</td>\n",
       "      <td>False</td>\n",
       "      <td>False</td>\n",
       "      <td>False</td>\n",
       "      <td>False</td>\n",
       "      <td>False</td>\n",
       "      <td>False</td>\n",
       "    </tr>\n",
       "    <tr>\n",
       "      <th>...</th>\n",
       "      <td>...</td>\n",
       "      <td>...</td>\n",
       "      <td>...</td>\n",
       "      <td>...</td>\n",
       "      <td>...</td>\n",
       "      <td>...</td>\n",
       "      <td>...</td>\n",
       "      <td>...</td>\n",
       "    </tr>\n",
       "    <tr>\n",
       "      <th>95</th>\n",
       "      <td>False</td>\n",
       "      <td>False</td>\n",
       "      <td>False</td>\n",
       "      <td>False</td>\n",
       "      <td>False</td>\n",
       "      <td>False</td>\n",
       "      <td>False</td>\n",
       "      <td>False</td>\n",
       "    </tr>\n",
       "    <tr>\n",
       "      <th>96</th>\n",
       "      <td>False</td>\n",
       "      <td>False</td>\n",
       "      <td>False</td>\n",
       "      <td>False</td>\n",
       "      <td>False</td>\n",
       "      <td>False</td>\n",
       "      <td>False</td>\n",
       "      <td>False</td>\n",
       "    </tr>\n",
       "    <tr>\n",
       "      <th>97</th>\n",
       "      <td>False</td>\n",
       "      <td>False</td>\n",
       "      <td>False</td>\n",
       "      <td>False</td>\n",
       "      <td>False</td>\n",
       "      <td>False</td>\n",
       "      <td>False</td>\n",
       "      <td>False</td>\n",
       "    </tr>\n",
       "    <tr>\n",
       "      <th>98</th>\n",
       "      <td>False</td>\n",
       "      <td>False</td>\n",
       "      <td>False</td>\n",
       "      <td>False</td>\n",
       "      <td>False</td>\n",
       "      <td>False</td>\n",
       "      <td>False</td>\n",
       "      <td>False</td>\n",
       "    </tr>\n",
       "    <tr>\n",
       "      <th>99</th>\n",
       "      <td>False</td>\n",
       "      <td>False</td>\n",
       "      <td>False</td>\n",
       "      <td>False</td>\n",
       "      <td>False</td>\n",
       "      <td>False</td>\n",
       "      <td>False</td>\n",
       "      <td>False</td>\n",
       "    </tr>\n",
       "  </tbody>\n",
       "</table>\n",
       "<p>100 rows × 8 columns</p>\n",
       "</div>"
      ],
      "text/plain": [
       "    Unnamed: 0  original_Tweets    len     ID   Date  Source  Likes    RTs\n",
       "0        False            False  False  False  False   False  False  False\n",
       "1        False            False  False  False  False   False  False  False\n",
       "2        False            False  False  False  False   False  False  False\n",
       "3        False            False  False  False  False   False  False  False\n",
       "4        False            False  False  False  False   False  False  False\n",
       "..         ...              ...    ...    ...    ...     ...    ...    ...\n",
       "95       False            False  False  False  False   False  False  False\n",
       "96       False            False  False  False  False   False  False  False\n",
       "97       False            False  False  False  False   False  False  False\n",
       "98       False            False  False  False  False   False  False  False\n",
       "99       False            False  False  False  False   False  False  False\n",
       "\n",
       "[100 rows x 8 columns]"
      ]
     },
     "execution_count": 105,
     "metadata": {},
     "output_type": "execute_result"
    }
   ],
   "source": [
    "#To find and fill the missing data in the dataset we will use another function.\n",
    "#There are 4 ways to find the null values if present in the dataset but we ii use one\n",
    "df.isnull()"
   ]
  },
  {
   "cell_type": "code",
   "execution_count": 106,
   "id": "e8a268df",
   "metadata": {},
   "outputs": [
    {
     "data": {
      "text/plain": [
       "(100, 8)"
      ]
     },
     "execution_count": 106,
     "metadata": {},
     "output_type": "execute_result"
    }
   ],
   "source": [
    "df.shape # Check the shape after dropping duplicates"
   ]
  },
  {
   "cell_type": "code",
   "execution_count": 107,
   "id": "10437b87",
   "metadata": {},
   "outputs": [],
   "source": [
    "df.to_csv('bitcointweets2.csv')"
   ]
  },
  {
   "cell_type": "markdown",
   "id": "81e2ad71",
   "metadata": {},
   "source": [
    "# Lessons and findings"
   ]
  },
  {
   "cell_type": "markdown",
   "id": "612cc1ea",
   "metadata": {},
   "source": [
    "# Data analysis of the 3 accounts"
   ]
  },
  {
   "cell_type": "code",
   "execution_count": 145,
   "id": "99dc0fa4",
   "metadata": {},
   "outputs": [
    {
     "data": {
      "text/plain": [
       "50393960"
      ]
     },
     "execution_count": 145,
     "metadata": {},
     "output_type": "execute_result"
    }
   ],
   "source": [
    "#getting my firts account ID\n",
    "Bill = api.get_user(screen_name = 'BillGates')\n",
    "Bill.id"
   ]
  },
  {
   "cell_type": "code",
   "execution_count": 146,
   "id": "da51537d",
   "metadata": {},
   "outputs": [
    {
     "data": {
      "text/plain": [
       "44196397"
      ]
     },
     "execution_count": 146,
     "metadata": {},
     "output_type": "execute_result"
    }
   ],
   "source": [
    "#getting my second account ID\n",
    "Elon = api.get_user(screen_name = 'elonmusk')\n",
    "Elon.id"
   ]
  },
  {
   "cell_type": "code",
   "execution_count": 147,
   "id": "6a11b394",
   "metadata": {},
   "outputs": [
    {
     "data": {
      "text/plain": [
       "1339835893"
      ]
     },
     "execution_count": 147,
     "metadata": {},
     "output_type": "execute_result"
    }
   ],
   "source": [
    "#getting my third account ID\n",
    "Hill = api.get_user(screen_name = 'HillaryClinton')\n",
    "Hill.id"
   ]
  },
  {
   "cell_type": "code",
   "execution_count": 172,
   "id": "3d9492ee",
   "metadata": {},
   "outputs": [
    {
     "ename": "SyntaxError",
     "evalue": "invalid syntax (<ipython-input-172-1f3b403adfb5>, line 5)",
     "output_type": "error",
     "traceback": [
      "\u001b[1;36m  File \u001b[1;32m\"<ipython-input-172-1f3b403adfb5>\"\u001b[1;36m, line \u001b[1;32m5\u001b[0m\n\u001b[1;33m    followers = api.get_follower_ids(user_id).pages():\u001b[0m\n\u001b[1;37m                                                     ^\u001b[0m\n\u001b[1;31mSyntaxError\u001b[0m\u001b[1;31m:\u001b[0m invalid syntax\n"
     ]
    }
   ],
   "source": [
    "\n",
    "# user ID of the user\n",
    "user_id = 1339835893\n",
    "  \n",
    "# getting the followers list\n",
    "followers = api.get_follower_ids(user_id).pages():\n",
    "  \n",
    "print(api.get_user(user_id).screen_name + \" has \" + str(len(followers)) + \" followers.\")"
   ]
  },
  {
   "cell_type": "code",
   "execution_count": 174,
   "id": "bade4a43",
   "metadata": {},
   "outputs": [
    {
     "ename": "AttributeError",
     "evalue": "module 'tweepy' has no attribute 'TweepError'",
     "output_type": "error",
     "traceback": [
      "\u001b[1;31m---------------------------------------------------------------------------\u001b[0m",
      "\u001b[1;31mNameError\u001b[0m                                 Traceback (most recent call last)",
      "\u001b[1;32m<ipython-input-174-e9501641004f>\u001b[0m in \u001b[0;36m<module>\u001b[1;34m\u001b[0m\n\u001b[0;32m      5\u001b[0m     \u001b[1;32mtry\u001b[0m\u001b[1;33m:\u001b[0m\u001b[1;33m\u001b[0m\u001b[1;33m\u001b[0m\u001b[0m\n\u001b[1;32m----> 6\u001b[1;33m         \u001b[1;32mfor\u001b[0m \u001b[0mpage\u001b[0m \u001b[1;32min\u001b[0m \u001b[0mtweepy\u001b[0m\u001b[1;33m.\u001b[0m\u001b[0mCursor\u001b[0m\u001b[1;33m(\u001b[0m\u001b[0mAPI\u001b[0m\u001b[1;33m.\u001b[0m\u001b[0mget_follower_ids\u001b[0m\u001b[1;33m,\u001b[0m \u001b[0muser_id\u001b[0m\u001b[1;33m=\u001b[0m\u001b[0muser\u001b[0m\u001b[1;33m)\u001b[0m\u001b[1;33m.\u001b[0m\u001b[0mpages\u001b[0m\u001b[1;33m(\u001b[0m\u001b[1;33m)\u001b[0m\u001b[1;33m:\u001b[0m\u001b[1;33m\u001b[0m\u001b[1;33m\u001b[0m\u001b[0m\n\u001b[0m\u001b[0;32m      7\u001b[0m             \u001b[0mfollowers\u001b[0m\u001b[1;33m.\u001b[0m\u001b[0mextend\u001b[0m\u001b[1;33m(\u001b[0m\u001b[0mpage\u001b[0m\u001b[1;33m)\u001b[0m\u001b[1;33m\u001b[0m\u001b[1;33m\u001b[0m\u001b[0m\n",
      "\u001b[1;31mNameError\u001b[0m: name 'API' is not defined",
      "\nDuring handling of the above exception, another exception occurred:\n",
      "\u001b[1;31mAttributeError\u001b[0m                            Traceback (most recent call last)",
      "\u001b[1;32m<ipython-input-174-e9501641004f>\u001b[0m in \u001b[0;36m<module>\u001b[1;34m\u001b[0m\n\u001b[0;32m      7\u001b[0m             \u001b[0mfollowers\u001b[0m\u001b[1;33m.\u001b[0m\u001b[0mextend\u001b[0m\u001b[1;33m(\u001b[0m\u001b[0mpage\u001b[0m\u001b[1;33m)\u001b[0m\u001b[1;33m\u001b[0m\u001b[1;33m\u001b[0m\u001b[0m\n\u001b[0;32m      8\u001b[0m             \u001b[0mprint\u001b[0m\u001b[1;33m(\u001b[0m\u001b[0mlen\u001b[0m\u001b[1;33m(\u001b[0m\u001b[0mfollowers\u001b[0m\u001b[1;33m)\u001b[0m\u001b[1;33m)\u001b[0m\u001b[1;33m\u001b[0m\u001b[1;33m\u001b[0m\u001b[0m\n\u001b[1;32m----> 9\u001b[1;33m     \u001b[1;32mexcept\u001b[0m \u001b[0mtweepy\u001b[0m\u001b[1;33m.\u001b[0m\u001b[0mTweepError\u001b[0m\u001b[1;33m:\u001b[0m\u001b[1;33m\u001b[0m\u001b[1;33m\u001b[0m\u001b[0m\n\u001b[0m\u001b[0;32m     10\u001b[0m         \u001b[0mprint\u001b[0m\u001b[1;33m(\u001b[0m\u001b[1;34m\"error\"\u001b[0m\u001b[1;33m)\u001b[0m\u001b[1;33m\u001b[0m\u001b[1;33m\u001b[0m\u001b[0m\n\u001b[0;32m     11\u001b[0m         \u001b[1;32mcontinue\u001b[0m\u001b[1;33m\u001b[0m\u001b[1;33m\u001b[0m\u001b[0m\n",
      "\u001b[1;31mAttributeError\u001b[0m: module 'tweepy' has no attribute 'TweepError'"
     ]
    }
   ],
   "source": [
    "user_list = [\"1339835893\"]\n",
    "follower_list = []\n",
    "for user in user_list:\n",
    "    followers = []\n",
    "    try:\n",
    "        for page in tweepy.Cursor(api.get_follower_ids, user_id=user).pages():\n",
    "            followers.extend(page)\n",
    "            print(len(followers))\n",
    "    except tweepy.TweepError:\n",
    "        print(\"error\")\n",
    "        continue\n",
    "    follower_list.append(followers)"
   ]
  },
  {
   "cell_type": "markdown",
   "id": "467154c5",
   "metadata": {},
   "source": [
    "# TASK 2"
   ]
  },
  {
   "cell_type": "code",
   "execution_count": 170,
   "id": "8d52f141",
   "metadata": {},
   "outputs": [
    {
     "ename": "IndexError",
     "evalue": "list index out of range",
     "output_type": "error",
     "traceback": [
      "\u001b[1;31m---------------------------------------------------------------------------\u001b[0m",
      "\u001b[1;31mIndexError\u001b[0m                                Traceback (most recent call last)",
      "\u001b[1;32m<ipython-input-170-41f8077de036>\u001b[0m in \u001b[0;36m<module>\u001b[1;34m\u001b[0m\n\u001b[0;32m      1\u001b[0m \u001b[1;31m#Now that we have a list of all the followers we can put them into a DataFrame\u001b[0m\u001b[1;33m\u001b[0m\u001b[1;33m\u001b[0m\u001b[0m\n\u001b[0;32m      2\u001b[0m \u001b[0mdf\u001b[0m \u001b[1;33m=\u001b[0m \u001b[0mpd\u001b[0m\u001b[1;33m.\u001b[0m\u001b[0mDataFrame\u001b[0m\u001b[1;33m(\u001b[0m\u001b[0mcolumns\u001b[0m\u001b[1;33m=\u001b[0m\u001b[1;33m[\u001b[0m\u001b[1;34m'source'\u001b[0m\u001b[1;33m,\u001b[0m\u001b[1;34m'target'\u001b[0m\u001b[1;33m]\u001b[0m\u001b[1;33m)\u001b[0m \u001b[1;31m#Empty DataFrame\u001b[0m\u001b[1;33m\u001b[0m\u001b[1;33m\u001b[0m\u001b[0m\n\u001b[1;32m----> 3\u001b[1;33m \u001b[0mdf\u001b[0m\u001b[1;33m[\u001b[0m\u001b[1;34m'target'\u001b[0m\u001b[1;33m]\u001b[0m \u001b[1;33m=\u001b[0m \u001b[0mfollower_list\u001b[0m\u001b[1;33m[\u001b[0m\u001b[1;36m0\u001b[0m\u001b[1;33m]\u001b[0m \u001b[1;31m#Set the list of followers as the target column\u001b[0m\u001b[1;33m\u001b[0m\u001b[1;33m\u001b[0m\u001b[0m\n\u001b[0m\u001b[0;32m      4\u001b[0m \u001b[0mdf\u001b[0m\u001b[1;33m[\u001b[0m\u001b[1;34m'source'\u001b[0m\u001b[1;33m]\u001b[0m \u001b[1;33m=\u001b[0m \u001b[1;36m50393960\u001b[0m \u001b[1;31m#Set my user ID as the source\u001b[0m\u001b[1;33m\u001b[0m\u001b[1;33m\u001b[0m\u001b[0m\n",
      "\u001b[1;31mIndexError\u001b[0m: list index out of range"
     ]
    }
   ],
   "source": [
    "#Now that we have a list of all the followers we can put them into a DataFrame\n",
    "df = pd.DataFrame(columns=['source','target']) #Empty DataFrame\n",
    "df['target'] = follower_list[0] #Set the list of followers as the target column\n",
    "df['source'] = 50393960 #Set my user ID as the source "
   ]
  },
  {
   "cell_type": "code",
   "execution_count": null,
   "id": "ca9917fb",
   "metadata": {},
   "outputs": [],
   "source": [
    "# To visualize this simple network, we can use the NetworkX package to convert the DataFrame into a graph or network\n",
    "import networkx as nx\n",
    "G = nx.from_pandas_edgelist(df, 'source', 'target') #Turn df into graph\n",
    "pos = nx.spring_layout(G) #specify layout for visual"
   ]
  },
  {
   "cell_type": "code",
   "execution_count": null,
   "id": "fc04e50e",
   "metadata": {},
   "outputs": [],
   "source": [
    "#Then we plot the graph using matplotlib.\n",
    "import matplotlib.pyplot as plt\n",
    "f, ax = plt.subplots(figsize=(10, 10))\n",
    "plt.style.use('ggplot')\n",
    "nodes = nx.draw_networkx_nodes(G, pos,\n",
    "                               alpha=0.8)\n",
    "nodes.set_edgecolor('k')\n",
    "nx.draw_networkx_labels(G, pos, font_size=8)\n",
    "nx.draw_networkx_edges(G, pos, width=1.0, alpha=0.2)"
   ]
  },
  {
   "cell_type": "code",
   "execution_count": null,
   "id": "78e21b18",
   "metadata": {},
   "outputs": [],
   "source": [
    "user_list = list(df['target']) #Use the list of followers we extracted in the code above i.e. my 450 followers\n",
    "for userID in user_list:\n",
    "    print(userID)\n",
    "    followers = []\n",
    "    follower_list = []\n",
    "\n",
    "    # fetching the user\n",
    "    user = api.get_user(userID)\n",
    "\n",
    "    # fetching the followers_count\n",
    "    followers_count = user.followers_count\n",
    "\n",
    "    try:\n",
    "        for page in tweepy.Cursor(api.followers_ids, user_id=userID).pages():\n",
    "            followers.extend(page)\n",
    "            print(len(followers))\n",
    "            if followers_count >= 5000: #Only take first 5000 followers\n",
    "                break\n",
    "    except tweepy.TweepError:\n",
    "        print(\"error\")\n",
    "        continue\n",
    "    follower_list.append(followers)\n",
    "    temp = pd.DataFrame(columns=['source', 'target'])\n",
    "    temp['target'] = follower_list[0]\n",
    "    temp['source'] = userID\n",
    "    df = df.append(temp)\n",
    "    df.to_csv(\"networkOfFollowers.csv\")"
   ]
  },
  {
   "cell_type": "code",
   "execution_count": null,
   "id": "86cd38e2",
   "metadata": {},
   "outputs": [],
   "source": [
    "df = pd.read_csv(“networkOfFollowers.csv”) #Read into a df\n",
    "G = nx.from_pandas_edgelist(df, 'source', 'target')"
   ]
  },
  {
   "cell_type": "code",
   "execution_count": null,
   "id": "683f2fb1",
   "metadata": {},
   "outputs": [],
   "source": [
    "G.number_of_nodes() #Find the total number of nodes in this graph"
   ]
  },
  {
   "cell_type": "code",
   "execution_count": null,
   "id": "81dd6b82",
   "metadata": {},
   "outputs": [],
   "source": [
    "#The following code finds the number of connections each account has i.e. \n",
    "#the degree of each user and sorts them in descending order.\n",
    "G_sorted = pd.DataFrame(sorted(G.degree, key=lambda x: x[1], reverse=True))\n",
    "G_sorted.columns = [‘nconst’,’degree’]\n",
    "G_sorted.head()"
   ]
  },
  {
   "cell_type": "markdown",
   "id": "8f4bf952",
   "metadata": {},
   "source": [
    "###### The node in my network with the highest degree is node 37728789 \n",
    "or @ TheSolarCo.TheSolarCo has a degree of 5039. 5000 of these connections are the 5000 followers of this node that we scraped. But this means there are 39 additional connections — meaning TheSolarCo follows 39 accounts that follow me. To get the username of an account given the user ID use the following code,\n",
    "similar to how we got our user ID above."
   ]
  },
  {
   "cell_type": "code",
   "execution_count": null,
   "id": "9d916281",
   "metadata": {},
   "outputs": [],
   "source": [
    "u = api.get_user(37728789)\n",
    "u.screen_name"
   ]
  },
  {
   "cell_type": "code",
   "execution_count": 135,
   "id": "c4c32412",
   "metadata": {},
   "outputs": [
    {
     "ename": "AttributeError",
     "evalue": "'str' object has no attribute 'followers_count'",
     "output_type": "error",
     "traceback": [
      "\u001b[1;31m---------------------------------------------------------------------------\u001b[0m",
      "\u001b[1;31mAttributeError\u001b[0m                            Traceback (most recent call last)",
      "\u001b[1;32m<ipython-input-135-d29a0a3e148f>\u001b[0m in \u001b[0;36m<module>\u001b[1;34m\u001b[0m\n\u001b[0;32m      2\u001b[0m \u001b[0musername\u001b[0m \u001b[1;33m=\u001b[0m \u001b[1;34m'BillGates'\u001b[0m\u001b[1;33m\u001b[0m\u001b[1;33m\u001b[0m\u001b[0m\n\u001b[0;32m      3\u001b[0m \u001b[1;31m# fetching the followers_count\u001b[0m\u001b[1;33m\u001b[0m\u001b[1;33m\u001b[0m\u001b[0m\n\u001b[1;32m----> 4\u001b[1;33m \u001b[0mfollowers_count\u001b[0m \u001b[1;33m=\u001b[0m \u001b[0musername\u001b[0m\u001b[1;33m.\u001b[0m\u001b[0mfollowers_count\u001b[0m\u001b[1;33m\u001b[0m\u001b[1;33m\u001b[0m\u001b[0m\n\u001b[0m\u001b[0;32m      5\u001b[0m \u001b[1;33m\u001b[0m\u001b[0m\n\u001b[0;32m      6\u001b[0m \u001b[0mprint\u001b[0m\u001b[1;33m(\u001b[0m\u001b[1;34m\"The number of followers of the user are : \"\u001b[0m \u001b[1;33m+\u001b[0m \u001b[0mstr\u001b[0m\u001b[1;33m(\u001b[0m\u001b[0mfollowers_count\u001b[0m\u001b[1;33m)\u001b[0m\u001b[1;33m)\u001b[0m\u001b[1;33m\u001b[0m\u001b[1;33m\u001b[0m\u001b[0m\n",
      "\u001b[1;31mAttributeError\u001b[0m: 'str' object has no attribute 'followers_count'"
     ]
    }
   ],
   "source": [
    "#number of followers\n",
    "username = 'BillGates'\n",
    "# fetching the followers_count\n",
    "followers_count = username.followers_count\n",
    "  \n",
    "print(\"The number of followers of the user are : \" + str(followers_count))"
   ]
  },
  {
   "cell_type": "code",
   "execution_count": null,
   "id": "0b527e07",
   "metadata": {},
   "outputs": [],
   "source": [
    "#ACCOUNT TWO\n",
    "username = 'HillaryClinton'\n",
    "max_tweets = 300\n",
    " \n",
    "# Creation of query method using parameters\n",
    "tweets = \n",
    "tweepy.Cursor(api.user_timeline, id=username, tweet_mode='extended').items(max_tweets)\n",
    " \n",
    "# Pulling information from tweets iterable object\n",
    "# Add or remove tweet information you want in the below list comprehension\n",
    "tweets_list = [[tweet.full_text, tweet.created_at, tweet.id_str, tweet.user.screen_name, tweet.coordinates, tweet.place, tweet.retweet_count, tweet.favorite_count, tweet.lang, tweet.source, tweet.in_reply_to_status_id_str, tweet.in_reply_to_user_id_str, tweet.is_quote_status] for tweet in tweets]\n",
    " \n",
    "# Creation of dataframe from tweets_list\n",
    "# Did not include column names to simplify code \n",
    "tweets_df = pd.DataFrame(tweets_list)"
   ]
  },
  {
   "cell_type": "code",
   "execution_count": 141,
   "id": "ead39369",
   "metadata": {},
   "outputs": [
    {
     "ename": "SyntaxError",
     "evalue": "Missing parentheses in call to 'print'. Did you mean print(user.screen_name)? (<ipython-input-141-4f0151114fe5>, line 2)",
     "output_type": "error",
     "traceback": [
      "\u001b[1;36m  File \u001b[1;32m\"<ipython-input-141-4f0151114fe5>\"\u001b[1;36m, line \u001b[1;32m2\u001b[0m\n\u001b[1;33m    print user.screen_name\u001b[0m\n\u001b[1;37m          ^\u001b[0m\n\u001b[1;31mSyntaxError\u001b[0m\u001b[1;31m:\u001b[0m Missing parentheses in call to 'print'. Did you mean print(user.screen_name)?\n"
     ]
    }
   ],
   "source": [
    "user = tweepy.api.get_user('HillaryClinton')\n",
    "print user.screen_name\n",
    "print (user.followers_count)"
   ]
  },
  {
   "cell_type": "code",
   "execution_count": null,
   "id": "61f0f17e",
   "metadata": {},
   "outputs": [],
   "source": []
  },
  {
   "cell_type": "code",
   "execution_count": null,
   "id": "4297f7e1",
   "metadata": {},
   "outputs": [],
   "source": [
    "#number of followers\n",
    "username = 'elonmusk'\n",
    "# fetching the followers_count\n",
    "followers_count = username.followers_count\n",
    "  \n",
    "print(\"The number of followers of the user are : \" + str(followers_count))"
   ]
  },
  {
   "cell_type": "code",
   "execution_count": null,
   "id": "e98eb8be",
   "metadata": {},
   "outputs": [],
   "source": [
    "#ACCOUNT THREE\n",
    "username = 'elonmusk'\n",
    "max_tweets = 300\n",
    " \n",
    "# Creation of query method using parameters\n",
    "tweets = \n",
    "tweepy.Cursor(api.user_timeline, id=username, tweet_mode='extended').items(max_tweets)\n",
    " \n",
    "# Pulling information from tweets iterable object\n",
    "# Add or remove tweet information you want in the below list comprehension\n",
    "tweets_list = [[tweet.full_text, tweet.created_at, tweet.id_str, tweet.user.screen_name, tweet.coordinates, tweet.place, tweet.retweet_count, tweet.favorite_count, tweet.lang, tweet.source, tweet.in_reply_to_status_id_str, tweet.in_reply_to_user_id_str, tweet.is_quote_status] for tweet in tweets]\n",
    " \n",
    "# Creation of dataframe from tweets_list\n",
    "# Did not include column names to simplify code \n",
    "tweets_df = pd.DataFrame(tweets_list)"
   ]
  },
  {
   "cell_type": "markdown",
   "id": "3b68c5ef",
   "metadata": {},
   "source": []
  }
 ],
 "metadata": {
  "kernelspec": {
   "display_name": "py_36_env",
   "language": "python",
   "name": "py_36_env"
  },
  "language_info": {
   "codemirror_mode": {
    "name": "ipython",
    "version": 3
   },
   "file_extension": ".py",
   "mimetype": "text/x-python",
   "name": "python",
   "nbconvert_exporter": "python",
   "pygments_lexer": "ipython3",
   "version": "3.9.7"
  }
 },
 "nbformat": 4,
 "nbformat_minor": 5
}
