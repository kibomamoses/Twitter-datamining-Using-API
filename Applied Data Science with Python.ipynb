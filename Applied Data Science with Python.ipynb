{
 "cells": [
  {
   "cell_type": "markdown",
   "id": "7a19c4d4",
   "metadata": {},
   "source": [
    "## Data Gathering, Pre-processing and EDA\n",
    "\n",
    "Here i am going to use tweepy for data extraction"
   ]
  },
  {
   "cell_type": "code",
   "execution_count": 20,
   "id": "a9f28df8",
   "metadata": {},
   "outputs": [
    {
     "name": "stdout",
     "output_type": "stream",
     "text": [
      "Requirement already satisfied: tweepy in c:\\users\\kibom\\appdata\\local\\programs\\python\\python36\\lib\\site-packages (4.4.0)\n",
      "Requirement already satisfied: requests<3,>=2.11.1 in c:\\users\\kibom\\appdata\\local\\programs\\python\\python36\\lib\\site-packages (from tweepy) (2.26.0)\n",
      "Requirement already satisfied: requests-oauthlib<2,>=1.0.0 in c:\\users\\kibom\\appdata\\local\\programs\\python\\python36\\lib\\site-packages (from tweepy) (1.3.0)\n",
      "Requirement already satisfied: idna<4,>=2.5; python_version >= \"3\" in c:\\users\\kibom\\appdata\\local\\programs\\python\\python36\\lib\\site-packages (from requests<3,>=2.11.1->tweepy) (3.3)\n",
      "Requirement already satisfied: certifi>=2017.4.17 in c:\\users\\kibom\\appdata\\local\\programs\\python\\python36\\lib\\site-packages (from requests<3,>=2.11.1->tweepy) (2021.10.8)\n",
      "Requirement already satisfied: charset-normalizer~=2.0.0; python_version >= \"3\" in c:\\users\\kibom\\appdata\\local\\programs\\python\\python36\\lib\\site-packages (from requests<3,>=2.11.1->tweepy) (2.0.9)\n",
      "Requirement already satisfied: urllib3<1.27,>=1.21.1 in c:\\users\\kibom\\appdata\\local\\programs\\python\\python36\\lib\\site-packages (from requests<3,>=2.11.1->tweepy) (1.26.7)\n",
      "Requirement already satisfied: oauthlib>=3.0.0 in c:\\users\\kibom\\appdata\\local\\programs\\python\\python36\\lib\\site-packages (from requests-oauthlib<2,>=1.0.0->tweepy) (3.1.1)\n"
     ]
    },
    {
     "name": "stderr",
     "output_type": "stream",
     "text": [
      "You are using pip version 18.1, however version 21.3.1 is available.\n",
      "You should consider upgrading via the 'python -m pip install --upgrade pip' command.\n"
     ]
    }
   ],
   "source": [
    "!pip install tweepy\n",
    "\n",
    "import tweepy\n",
    "import pandas as pd\n",
    "import numpy as np\n",
    "from tweepy import Stream\n",
    "from tweepy import OAuthHandler\n",
    "from tweepy.streaming import Stream\n",
    "import json\n",
    "import pandas as pd\n",
    "import csv\n",
    "import re #regular expression\n",
    "import string\n",
    "import preprocessor as p"
   ]
  },
  {
   "cell_type": "code",
   "execution_count": 21,
   "id": "861339a1",
   "metadata": {},
   "outputs": [],
   "source": [
    "#OAth Handler or jump server/ reverse proxy server\n",
    "\n",
    "consumer_key = \"zMROP87cgsjuWidcAMVNOgSbk\"\n",
    "consumer_secret =\"I4yJ4WiH1ofEtvxABpE3CXZukHn8bgL7lAWU9sXVTkssyXlTem\"\n",
    "\n",
    "#From proxy server we need to connect\n",
    "\n",
    "access_token = \"1465472567272259587-H5gIN692pzRV8BWawafD9Rm2cltErm\"\n",
    "access_token_secret = \"HMOj5s1kfUlJYXCtVaNef0VwDMkTT4Tk53s883CYKH1Jb\""
   ]
  },
  {
   "cell_type": "code",
   "execution_count": 22,
   "id": "6cbfc3fc",
   "metadata": {},
   "outputs": [],
   "source": [
    "#Now the next step is to be connected to jump server of twitter, this can be done with the following command line:\n",
    "auth = tweepy.OAuthHandler(consumer_key, consumer_secret)\n",
    "auth.set_access_token(access_token, access_token_secret)\n",
    "api = tweepy.API(auth, wait_on_rate_limit=True)\n"
   ]
  },
  {
   "cell_type": "code",
   "execution_count": null,
   "id": "8f22f555",
   "metadata": {},
   "outputs": [],
   "source": []
  },
  {
   "cell_type": "code",
   "execution_count": 23,
   "id": "54b00f25",
   "metadata": {},
   "outputs": [],
   "source": [
    "#scraping tweets of cryptocurrency (bitcoin) in language mode as English, with taking count of total tweets as 300\n",
    "public_tweets = api.search_tweets('bitcoin', count=3000, lang='en', tweet_mode='extended')"
   ]
  },
  {
   "cell_type": "markdown",
   "id": "f0121cb2",
   "metadata": {},
   "source": [
    "# Data Pre-processing"
   ]
  },
  {
   "cell_type": "code",
   "execution_count": 24,
   "id": "4d703f00",
   "metadata": {},
   "outputs": [
    {
     "data": {
      "text/html": [
       "<div>\n",
       "<style scoped>\n",
       "    .dataframe tbody tr th:only-of-type {\n",
       "        vertical-align: middle;\n",
       "    }\n",
       "\n",
       "    .dataframe tbody tr th {\n",
       "        vertical-align: top;\n",
       "    }\n",
       "\n",
       "    .dataframe thead th {\n",
       "        text-align: right;\n",
       "    }\n",
       "</style>\n",
       "<table border=\"1\" class=\"dataframe\">\n",
       "  <thead>\n",
       "    <tr style=\"text-align: right;\">\n",
       "      <th></th>\n",
       "      <th>original_Tweets</th>\n",
       "    </tr>\n",
       "  </thead>\n",
       "  <tbody>\n",
       "    <tr>\n",
       "      <th>0</th>\n",
       "      <td>RT @JagerskaTimea: Hello friends and family, I...</td>\n",
       "    </tr>\n",
       "    <tr>\n",
       "      <th>1</th>\n",
       "      <td>RT @muneeb: Bitcoin maximalism is limiting the...</td>\n",
       "    </tr>\n",
       "    <tr>\n",
       "      <th>2</th>\n",
       "      <td>RT @AirdropStario: 💧 GrailPad Airdrop 💧\\n\\n🏆 T...</td>\n",
       "    </tr>\n",
       "    <tr>\n",
       "      <th>3</th>\n",
       "      <td>Breaking News Rating: 8/10\\nCoin Ticker: $ADA\\...</td>\n",
       "    </tr>\n",
       "    <tr>\n",
       "      <th>4</th>\n",
       "      <td>🐳🚨 Bitcoin Whale Alert: [ TX: d10076a8b747413f...</td>\n",
       "    </tr>\n",
       "    <tr>\n",
       "      <th>5</th>\n",
       "      <td>RT @SerkanArikan06: $20000 #Bitcoin To A Rando...</td>\n",
       "    </tr>\n",
       "    <tr>\n",
       "      <th>6</th>\n",
       "      <td>RT @saylor: #Bitcoin moves at the speed of lig...</td>\n",
       "    </tr>\n",
       "    <tr>\n",
       "      <th>7</th>\n",
       "      <td>@SquawkStreet @jimcramer @CNBC @jimcramer, for...</td>\n",
       "    </tr>\n",
       "    <tr>\n",
       "      <th>8</th>\n",
       "      <td>@CryptoKaleo The real currency of the United S...</td>\n",
       "    </tr>\n",
       "    <tr>\n",
       "      <th>9</th>\n",
       "      <td>And... That's a wrap! 🔥\\n\\nAll @ElementiesNFT ...</td>\n",
       "    </tr>\n",
       "  </tbody>\n",
       "</table>\n",
       "</div>"
      ],
      "text/plain": [
       "                                     original_Tweets\n",
       "0  RT @JagerskaTimea: Hello friends and family, I...\n",
       "1  RT @muneeb: Bitcoin maximalism is limiting the...\n",
       "2  RT @AirdropStario: 💧 GrailPad Airdrop 💧\\n\\n🏆 T...\n",
       "3  Breaking News Rating: 8/10\\nCoin Ticker: $ADA\\...\n",
       "4  🐳🚨 Bitcoin Whale Alert: [ TX: d10076a8b747413f...\n",
       "5  RT @SerkanArikan06: $20000 #Bitcoin To A Rando...\n",
       "6  RT @saylor: #Bitcoin moves at the speed of lig...\n",
       "7  @SquawkStreet @jimcramer @CNBC @jimcramer, for...\n",
       "8  @CryptoKaleo The real currency of the United S...\n",
       "9  And... That's a wrap! 🔥\\n\\nAll @ElementiesNFT ..."
      ]
     },
     "execution_count": 24,
     "metadata": {},
     "output_type": "execute_result"
    }
   ],
   "source": [
    "#Will now create a pandas dataframe as follows:\n",
    "df = pd.DataFrame(data=[tweet.full_text for tweet in public_tweets], columns=['original_Tweets'])\n",
    "df.head(10)"
   ]
  },
  {
   "cell_type": "code",
   "execution_count": 25,
   "id": "f06e8afa",
   "metadata": {},
   "outputs": [
    {
     "data": {
      "text/html": [
       "<div>\n",
       "<style scoped>\n",
       "    .dataframe tbody tr th:only-of-type {\n",
       "        vertical-align: middle;\n",
       "    }\n",
       "\n",
       "    .dataframe tbody tr th {\n",
       "        vertical-align: top;\n",
       "    }\n",
       "\n",
       "    .dataframe thead th {\n",
       "        text-align: right;\n",
       "    }\n",
       "</style>\n",
       "<table border=\"1\" class=\"dataframe\">\n",
       "  <thead>\n",
       "    <tr style=\"text-align: right;\">\n",
       "      <th></th>\n",
       "      <th>original_Tweets</th>\n",
       "      <th>len</th>\n",
       "      <th>ID</th>\n",
       "      <th>Date</th>\n",
       "      <th>Source</th>\n",
       "      <th>Likes</th>\n",
       "      <th>RTs</th>\n",
       "    </tr>\n",
       "  </thead>\n",
       "  <tbody>\n",
       "    <tr>\n",
       "      <th>0</th>\n",
       "      <td>RT @JagerskaTimea: Hello friends and family, I...</td>\n",
       "      <td>140</td>\n",
       "      <td>1467955684394221568</td>\n",
       "      <td>2021-12-06 20:34:43+00:00</td>\n",
       "      <td>Twitter for Android</td>\n",
       "      <td>0</td>\n",
       "      <td>1</td>\n",
       "    </tr>\n",
       "    <tr>\n",
       "      <th>1</th>\n",
       "      <td>RT @muneeb: Bitcoin maximalism is limiting the...</td>\n",
       "      <td>119</td>\n",
       "      <td>1467955684373192705</td>\n",
       "      <td>2021-12-06 20:34:43+00:00</td>\n",
       "      <td>Twitter for Android</td>\n",
       "      <td>0</td>\n",
       "      <td>380</td>\n",
       "    </tr>\n",
       "    <tr>\n",
       "      <th>2</th>\n",
       "      <td>RT @AirdropStario: 💧 GrailPad Airdrop 💧\\n\\n🏆 T...</td>\n",
       "      <td>139</td>\n",
       "      <td>1467955682959839238</td>\n",
       "      <td>2021-12-06 20:34:42+00:00</td>\n",
       "      <td>Twitter for Android</td>\n",
       "      <td>0</td>\n",
       "      <td>15589</td>\n",
       "    </tr>\n",
       "    <tr>\n",
       "      <th>3</th>\n",
       "      <td>Breaking News Rating: 8/10\\nCoin Ticker: $ADA\\...</td>\n",
       "      <td>268</td>\n",
       "      <td>1467955680980131848</td>\n",
       "      <td>2021-12-06 20:34:42+00:00</td>\n",
       "      <td>Beefore App</td>\n",
       "      <td>0</td>\n",
       "      <td>0</td>\n",
       "    </tr>\n",
       "    <tr>\n",
       "      <th>4</th>\n",
       "      <td>🐳🚨 Bitcoin Whale Alert: [ TX: d10076a8b747413f...</td>\n",
       "      <td>225</td>\n",
       "      <td>1467955680304848908</td>\n",
       "      <td>2021-12-06 20:34:42+00:00</td>\n",
       "      <td>Bitcoin Whale Alert</td>\n",
       "      <td>0</td>\n",
       "      <td>0</td>\n",
       "    </tr>\n",
       "    <tr>\n",
       "      <th>5</th>\n",
       "      <td>RT @SerkanArikan06: $20000 #Bitcoin To A Rando...</td>\n",
       "      <td>99</td>\n",
       "      <td>1467955680258764800</td>\n",
       "      <td>2021-12-06 20:34:42+00:00</td>\n",
       "      <td>Twitter for Android</td>\n",
       "      <td>0</td>\n",
       "      <td>1018</td>\n",
       "    </tr>\n",
       "    <tr>\n",
       "      <th>6</th>\n",
       "      <td>RT @saylor: #Bitcoin moves at the speed of lig...</td>\n",
       "      <td>128</td>\n",
       "      <td>1467955680220954636</td>\n",
       "      <td>2021-12-06 20:34:42+00:00</td>\n",
       "      <td>Twitter for iPhone</td>\n",
       "      <td>0</td>\n",
       "      <td>409</td>\n",
       "    </tr>\n",
       "    <tr>\n",
       "      <th>7</th>\n",
       "      <td>@SquawkStreet @jimcramer @CNBC @jimcramer, for...</td>\n",
       "      <td>254</td>\n",
       "      <td>1467955678694285313</td>\n",
       "      <td>2021-12-06 20:34:41+00:00</td>\n",
       "      <td>Twitter for iPhone</td>\n",
       "      <td>0</td>\n",
       "      <td>0</td>\n",
       "    </tr>\n",
       "    <tr>\n",
       "      <th>8</th>\n",
       "      <td>@CryptoKaleo The real currency of the United S...</td>\n",
       "      <td>289</td>\n",
       "      <td>1467955678149029893</td>\n",
       "      <td>2021-12-06 20:34:41+00:00</td>\n",
       "      <td>Twitter for Android</td>\n",
       "      <td>0</td>\n",
       "      <td>0</td>\n",
       "    </tr>\n",
       "    <tr>\n",
       "      <th>9</th>\n",
       "      <td>And... That's a wrap! 🔥\\n\\nAll @ElementiesNFT ...</td>\n",
       "      <td>228</td>\n",
       "      <td>1467955677138149376</td>\n",
       "      <td>2021-12-06 20:34:41+00:00</td>\n",
       "      <td>Twitter Web App</td>\n",
       "      <td>0</td>\n",
       "      <td>0</td>\n",
       "    </tr>\n",
       "  </tbody>\n",
       "</table>\n",
       "</div>"
      ],
      "text/plain": [
       "                                     original_Tweets  len  \\\n",
       "0  RT @JagerskaTimea: Hello friends and family, I...  140   \n",
       "1  RT @muneeb: Bitcoin maximalism is limiting the...  119   \n",
       "2  RT @AirdropStario: 💧 GrailPad Airdrop 💧\\n\\n🏆 T...  139   \n",
       "3  Breaking News Rating: 8/10\\nCoin Ticker: $ADA\\...  268   \n",
       "4  🐳🚨 Bitcoin Whale Alert: [ TX: d10076a8b747413f...  225   \n",
       "5  RT @SerkanArikan06: $20000 #Bitcoin To A Rando...   99   \n",
       "6  RT @saylor: #Bitcoin moves at the speed of lig...  128   \n",
       "7  @SquawkStreet @jimcramer @CNBC @jimcramer, for...  254   \n",
       "8  @CryptoKaleo The real currency of the United S...  289   \n",
       "9  And... That's a wrap! 🔥\\n\\nAll @ElementiesNFT ...  228   \n",
       "\n",
       "                    ID                      Date               Source  Likes  \\\n",
       "0  1467955684394221568 2021-12-06 20:34:43+00:00  Twitter for Android      0   \n",
       "1  1467955684373192705 2021-12-06 20:34:43+00:00  Twitter for Android      0   \n",
       "2  1467955682959839238 2021-12-06 20:34:42+00:00  Twitter for Android      0   \n",
       "3  1467955680980131848 2021-12-06 20:34:42+00:00          Beefore App      0   \n",
       "4  1467955680304848908 2021-12-06 20:34:42+00:00  Bitcoin Whale Alert      0   \n",
       "5  1467955680258764800 2021-12-06 20:34:42+00:00  Twitter for Android      0   \n",
       "6  1467955680220954636 2021-12-06 20:34:42+00:00   Twitter for iPhone      0   \n",
       "7  1467955678694285313 2021-12-06 20:34:41+00:00   Twitter for iPhone      0   \n",
       "8  1467955678149029893 2021-12-06 20:34:41+00:00  Twitter for Android      0   \n",
       "9  1467955677138149376 2021-12-06 20:34:41+00:00      Twitter Web App      0   \n",
       "\n",
       "     RTs  \n",
       "0      1  \n",
       "1    380  \n",
       "2  15589  \n",
       "3      0  \n",
       "4      0  \n",
       "5   1018  \n",
       "6    409  \n",
       "7      0  \n",
       "8      0  \n",
       "9      0  "
      ]
     },
     "metadata": {},
     "output_type": "display_data"
    }
   ],
   "source": [
    "df['len'] = np.array([len(tweet.full_text) for tweet in public_tweets])\n",
    "df['ID']  = np.array([tweet.id for tweet in public_tweets])\n",
    "df['Date'] = np.array([tweet.created_at for tweet in public_tweets])\n",
    "df['Source'] = np.array([tweet.source for tweet in public_tweets])\n",
    "df['Likes'] = np.array([tweet.favorite_count for tweet in public_tweets])\n",
    "df['RTs']  = np.array([tweet.retweet_count for tweet in public_tweets])\n",
    "display(df.head(10))"
   ]
  },
  {
   "cell_type": "code",
   "execution_count": 26,
   "id": "35aac0de",
   "metadata": {},
   "outputs": [],
   "source": [
    "# Now its time to store the data frame in CSV file for further usage.\n",
    "df.to_csv('bitcointweets.csv')"
   ]
  },
  {
   "cell_type": "markdown",
   "id": "0f73ba9b",
   "metadata": {},
   "source": [
    "## Data Cleaning with Using tweet-preprocessor Preprocessor \n",
    "\n",
    "Here we will use the data that we have extracted from twitter"
   ]
  },
  {
   "cell_type": "code",
   "execution_count": 27,
   "id": "0eb469b1",
   "metadata": {},
   "outputs": [
    {
     "name": "stdout",
     "output_type": "stream",
     "text": [
      "Requirement already satisfied: preprocessor in c:\\users\\kibom\\appdata\\local\\programs\\python\\python36\\lib\\site-packages (1.1.3)\n"
     ]
    },
    {
     "name": "stderr",
     "output_type": "stream",
     "text": [
      "You are using pip version 18.1, however version 21.3.1 is available.\n",
      "You should consider upgrading via the 'python -m pip install --upgrade pip' command.\n"
     ]
    }
   ],
   "source": [
    "!pip install preprocessor\n",
    "\n",
    "import preprocessor as p"
   ]
  },
  {
   "cell_type": "code",
   "execution_count": 28,
   "id": "ff016dd5",
   "metadata": {},
   "outputs": [
    {
     "name": "stderr",
     "output_type": "stream",
     "text": [
      "[nltk_data] Downloading package stopwords to\n",
      "[nltk_data]     C:\\Users\\kibom\\AppData\\Roaming\\nltk_data...\n",
      "[nltk_data]   Package stopwords is already up-to-date!\n"
     ]
    }
   ],
   "source": [
    "import nltk\n",
    "from nltk import sent_tokenize, word_tokenize\n",
    "from nltk.stem.snowball import SnowballStemmer\n",
    "from nltk.stem.wordnet import WordNetLemmatizer\n",
    "from nltk.corpus import stopwords\n",
    "import re\n",
    "import string\n",
    "nltk.download('stopwords')\n",
    "stopwords = stopwords.words('english')\n",
    "ps= nltk.PorterStemmer()"
   ]
  },
  {
   "cell_type": "code",
   "execution_count": 29,
   "id": "15b7759c",
   "metadata": {},
   "outputs": [
    {
     "data": {
      "text/html": [
       "<div>\n",
       "<style scoped>\n",
       "    .dataframe tbody tr th:only-of-type {\n",
       "        vertical-align: middle;\n",
       "    }\n",
       "\n",
       "    .dataframe tbody tr th {\n",
       "        vertical-align: top;\n",
       "    }\n",
       "\n",
       "    .dataframe thead th {\n",
       "        text-align: right;\n",
       "    }\n",
       "</style>\n",
       "<table border=\"1\" class=\"dataframe\">\n",
       "  <thead>\n",
       "    <tr style=\"text-align: right;\">\n",
       "      <th></th>\n",
       "      <th>Unnamed: 0</th>\n",
       "      <th>original_Tweets</th>\n",
       "      <th>len</th>\n",
       "      <th>ID</th>\n",
       "      <th>Date</th>\n",
       "      <th>Source</th>\n",
       "      <th>Likes</th>\n",
       "      <th>RTs</th>\n",
       "    </tr>\n",
       "  </thead>\n",
       "  <tbody>\n",
       "    <tr>\n",
       "      <th>0</th>\n",
       "      <td>0</td>\n",
       "      <td>RT @JagerskaTimea: Hello friends and family, I...</td>\n",
       "      <td>140</td>\n",
       "      <td>1467955684394221568</td>\n",
       "      <td>2021-12-06 20:34:43+00:00</td>\n",
       "      <td>Twitter for Android</td>\n",
       "      <td>0</td>\n",
       "      <td>1</td>\n",
       "    </tr>\n",
       "    <tr>\n",
       "      <th>1</th>\n",
       "      <td>1</td>\n",
       "      <td>RT @muneeb: Bitcoin maximalism is limiting the...</td>\n",
       "      <td>119</td>\n",
       "      <td>1467955684373192705</td>\n",
       "      <td>2021-12-06 20:34:43+00:00</td>\n",
       "      <td>Twitter for Android</td>\n",
       "      <td>0</td>\n",
       "      <td>380</td>\n",
       "    </tr>\n",
       "    <tr>\n",
       "      <th>2</th>\n",
       "      <td>2</td>\n",
       "      <td>RT @AirdropStario: 💧 GrailPad Airdrop 💧\\n\\n🏆 T...</td>\n",
       "      <td>139</td>\n",
       "      <td>1467955682959839238</td>\n",
       "      <td>2021-12-06 20:34:42+00:00</td>\n",
       "      <td>Twitter for Android</td>\n",
       "      <td>0</td>\n",
       "      <td>15589</td>\n",
       "    </tr>\n",
       "    <tr>\n",
       "      <th>3</th>\n",
       "      <td>3</td>\n",
       "      <td>Breaking News Rating: 8/10\\nCoin Ticker: $ADA\\...</td>\n",
       "      <td>268</td>\n",
       "      <td>1467955680980131848</td>\n",
       "      <td>2021-12-06 20:34:42+00:00</td>\n",
       "      <td>Beefore App</td>\n",
       "      <td>0</td>\n",
       "      <td>0</td>\n",
       "    </tr>\n",
       "    <tr>\n",
       "      <th>4</th>\n",
       "      <td>4</td>\n",
       "      <td>🐳🚨 Bitcoin Whale Alert: [ TX: d10076a8b747413f...</td>\n",
       "      <td>225</td>\n",
       "      <td>1467955680304848908</td>\n",
       "      <td>2021-12-06 20:34:42+00:00</td>\n",
       "      <td>Bitcoin Whale Alert</td>\n",
       "      <td>0</td>\n",
       "      <td>0</td>\n",
       "    </tr>\n",
       "  </tbody>\n",
       "</table>\n",
       "</div>"
      ],
      "text/plain": [
       "   Unnamed: 0                                    original_Tweets  len  \\\n",
       "0           0  RT @JagerskaTimea: Hello friends and family, I...  140   \n",
       "1           1  RT @muneeb: Bitcoin maximalism is limiting the...  119   \n",
       "2           2  RT @AirdropStario: 💧 GrailPad Airdrop 💧\\n\\n🏆 T...  139   \n",
       "3           3  Breaking News Rating: 8/10\\nCoin Ticker: $ADA\\...  268   \n",
       "4           4  🐳🚨 Bitcoin Whale Alert: [ TX: d10076a8b747413f...  225   \n",
       "\n",
       "                    ID                       Date               Source  Likes  \\\n",
       "0  1467955684394221568  2021-12-06 20:34:43+00:00  Twitter for Android      0   \n",
       "1  1467955684373192705  2021-12-06 20:34:43+00:00  Twitter for Android      0   \n",
       "2  1467955682959839238  2021-12-06 20:34:42+00:00  Twitter for Android      0   \n",
       "3  1467955680980131848  2021-12-06 20:34:42+00:00          Beefore App      0   \n",
       "4  1467955680304848908  2021-12-06 20:34:42+00:00  Bitcoin Whale Alert      0   \n",
       "\n",
       "     RTs  \n",
       "0      1  \n",
       "1    380  \n",
       "2  15589  \n",
       "3      0  \n",
       "4      0  "
      ]
     },
     "execution_count": 29,
     "metadata": {},
     "output_type": "execute_result"
    }
   ],
   "source": [
    "df = pd.read_csv('bitcointweets.csv')\n",
    "df.head()"
   ]
  },
  {
   "cell_type": "code",
   "execution_count": 30,
   "id": "9dfbdb54",
   "metadata": {},
   "outputs": [
    {
     "data": {
      "text/html": [
       "<div>\n",
       "<style scoped>\n",
       "    .dataframe tbody tr th:only-of-type {\n",
       "        vertical-align: middle;\n",
       "    }\n",
       "\n",
       "    .dataframe tbody tr th {\n",
       "        vertical-align: top;\n",
       "    }\n",
       "\n",
       "    .dataframe thead th {\n",
       "        text-align: right;\n",
       "    }\n",
       "</style>\n",
       "<table border=\"1\" class=\"dataframe\">\n",
       "  <thead>\n",
       "    <tr style=\"text-align: right;\">\n",
       "      <th></th>\n",
       "      <th>Unnamed: 0</th>\n",
       "      <th>original_Tweets</th>\n",
       "      <th>len</th>\n",
       "      <th>ID</th>\n",
       "      <th>Date</th>\n",
       "      <th>Source</th>\n",
       "      <th>Likes</th>\n",
       "      <th>RTs</th>\n",
       "    </tr>\n",
       "  </thead>\n",
       "  <tbody>\n",
       "    <tr>\n",
       "      <th>94</th>\n",
       "      <td>94</td>\n",
       "      <td>RT @AirdropStario: 💧 OkLetsPlay Airdrop 💧\\n\\n📍...</td>\n",
       "      <td>140</td>\n",
       "      <td>1467955572276449290</td>\n",
       "      <td>2021-12-06 20:34:16+00:00</td>\n",
       "      <td>Twitter for Android</td>\n",
       "      <td>0</td>\n",
       "      <td>8867</td>\n",
       "    </tr>\n",
       "    <tr>\n",
       "      <th>95</th>\n",
       "      <td>95</td>\n",
       "      <td>Virtual Metaverse Plots Outpace Top NFT Collec...</td>\n",
       "      <td>161</td>\n",
       "      <td>1467955570942566403</td>\n",
       "      <td>2021-12-06 20:34:16+00:00</td>\n",
       "      <td>WordPress.com</td>\n",
       "      <td>0</td>\n",
       "      <td>0</td>\n",
       "    </tr>\n",
       "    <tr>\n",
       "      <th>96</th>\n",
       "      <td>96</td>\n",
       "      <td>RT @AirdropStario: 💧 Metavast Inu Airdrop 💧\\n\\...</td>\n",
       "      <td>144</td>\n",
       "      <td>1467955565544591365</td>\n",
       "      <td>2021-12-06 20:34:14+00:00</td>\n",
       "      <td>Twitter Web App</td>\n",
       "      <td>0</td>\n",
       "      <td>16853</td>\n",
       "    </tr>\n",
       "    <tr>\n",
       "      <th>97</th>\n",
       "      <td>97</td>\n",
       "      <td>RT @saylor: #Bitcoin moves at the speed of lig...</td>\n",
       "      <td>128</td>\n",
       "      <td>1467955565481500672</td>\n",
       "      <td>2021-12-06 20:34:14+00:00</td>\n",
       "      <td>Twitter for Android</td>\n",
       "      <td>0</td>\n",
       "      <td>409</td>\n",
       "    </tr>\n",
       "    <tr>\n",
       "      <th>98</th>\n",
       "      <td>98</td>\n",
       "      <td>@TechAmazing @MiopsTrigger I never thought of ...</td>\n",
       "      <td>287</td>\n",
       "      <td>1467955564495912965</td>\n",
       "      <td>2021-12-06 20:34:14+00:00</td>\n",
       "      <td>Twitter for iPhone</td>\n",
       "      <td>0</td>\n",
       "      <td>0</td>\n",
       "    </tr>\n",
       "  </tbody>\n",
       "</table>\n",
       "</div>"
      ],
      "text/plain": [
       "    Unnamed: 0                                    original_Tweets  len  \\\n",
       "94          94  RT @AirdropStario: 💧 OkLetsPlay Airdrop 💧\\n\\n📍...  140   \n",
       "95          95  Virtual Metaverse Plots Outpace Top NFT Collec...  161   \n",
       "96          96  RT @AirdropStario: 💧 Metavast Inu Airdrop 💧\\n\\...  144   \n",
       "97          97  RT @saylor: #Bitcoin moves at the speed of lig...  128   \n",
       "98          98  @TechAmazing @MiopsTrigger I never thought of ...  287   \n",
       "\n",
       "                     ID                       Date               Source  \\\n",
       "94  1467955572276449290  2021-12-06 20:34:16+00:00  Twitter for Android   \n",
       "95  1467955570942566403  2021-12-06 20:34:16+00:00        WordPress.com   \n",
       "96  1467955565544591365  2021-12-06 20:34:14+00:00      Twitter Web App   \n",
       "97  1467955565481500672  2021-12-06 20:34:14+00:00  Twitter for Android   \n",
       "98  1467955564495912965  2021-12-06 20:34:14+00:00   Twitter for iPhone   \n",
       "\n",
       "    Likes    RTs  \n",
       "94      0   8867  \n",
       "95      0      0  \n",
       "96      0  16853  \n",
       "97      0    409  \n",
       "98      0      0  "
      ]
     },
     "execution_count": 30,
     "metadata": {},
     "output_type": "execute_result"
    }
   ],
   "source": [
    "#displayinf last five rows of dataset\n",
    "df.tail()"
   ]
  },
  {
   "cell_type": "code",
   "execution_count": 31,
   "id": "09102eb6",
   "metadata": {},
   "outputs": [
    {
     "data": {
      "text/html": [
       "<div>\n",
       "<style scoped>\n",
       "    .dataframe tbody tr th:only-of-type {\n",
       "        vertical-align: middle;\n",
       "    }\n",
       "\n",
       "    .dataframe tbody tr th {\n",
       "        vertical-align: top;\n",
       "    }\n",
       "\n",
       "    .dataframe thead th {\n",
       "        text-align: right;\n",
       "    }\n",
       "</style>\n",
       "<table border=\"1\" class=\"dataframe\">\n",
       "  <thead>\n",
       "    <tr style=\"text-align: right;\">\n",
       "      <th></th>\n",
       "      <th>Unnamed: 0</th>\n",
       "      <th>original_Tweets</th>\n",
       "      <th>len</th>\n",
       "      <th>ID</th>\n",
       "      <th>Date</th>\n",
       "      <th>Source</th>\n",
       "      <th>Likes</th>\n",
       "      <th>RTs</th>\n",
       "    </tr>\n",
       "  </thead>\n",
       "  <tbody>\n",
       "    <tr>\n",
       "      <th>0</th>\n",
       "      <td>False</td>\n",
       "      <td>False</td>\n",
       "      <td>False</td>\n",
       "      <td>False</td>\n",
       "      <td>False</td>\n",
       "      <td>False</td>\n",
       "      <td>False</td>\n",
       "      <td>False</td>\n",
       "    </tr>\n",
       "    <tr>\n",
       "      <th>1</th>\n",
       "      <td>False</td>\n",
       "      <td>False</td>\n",
       "      <td>False</td>\n",
       "      <td>False</td>\n",
       "      <td>False</td>\n",
       "      <td>False</td>\n",
       "      <td>False</td>\n",
       "      <td>False</td>\n",
       "    </tr>\n",
       "    <tr>\n",
       "      <th>2</th>\n",
       "      <td>False</td>\n",
       "      <td>False</td>\n",
       "      <td>False</td>\n",
       "      <td>False</td>\n",
       "      <td>False</td>\n",
       "      <td>False</td>\n",
       "      <td>False</td>\n",
       "      <td>False</td>\n",
       "    </tr>\n",
       "    <tr>\n",
       "      <th>3</th>\n",
       "      <td>False</td>\n",
       "      <td>False</td>\n",
       "      <td>False</td>\n",
       "      <td>False</td>\n",
       "      <td>False</td>\n",
       "      <td>False</td>\n",
       "      <td>False</td>\n",
       "      <td>False</td>\n",
       "    </tr>\n",
       "    <tr>\n",
       "      <th>4</th>\n",
       "      <td>False</td>\n",
       "      <td>False</td>\n",
       "      <td>False</td>\n",
       "      <td>False</td>\n",
       "      <td>False</td>\n",
       "      <td>False</td>\n",
       "      <td>False</td>\n",
       "      <td>False</td>\n",
       "    </tr>\n",
       "    <tr>\n",
       "      <th>...</th>\n",
       "      <td>...</td>\n",
       "      <td>...</td>\n",
       "      <td>...</td>\n",
       "      <td>...</td>\n",
       "      <td>...</td>\n",
       "      <td>...</td>\n",
       "      <td>...</td>\n",
       "      <td>...</td>\n",
       "    </tr>\n",
       "    <tr>\n",
       "      <th>94</th>\n",
       "      <td>False</td>\n",
       "      <td>False</td>\n",
       "      <td>False</td>\n",
       "      <td>False</td>\n",
       "      <td>False</td>\n",
       "      <td>False</td>\n",
       "      <td>False</td>\n",
       "      <td>False</td>\n",
       "    </tr>\n",
       "    <tr>\n",
       "      <th>95</th>\n",
       "      <td>False</td>\n",
       "      <td>False</td>\n",
       "      <td>False</td>\n",
       "      <td>False</td>\n",
       "      <td>False</td>\n",
       "      <td>False</td>\n",
       "      <td>False</td>\n",
       "      <td>False</td>\n",
       "    </tr>\n",
       "    <tr>\n",
       "      <th>96</th>\n",
       "      <td>False</td>\n",
       "      <td>False</td>\n",
       "      <td>False</td>\n",
       "      <td>False</td>\n",
       "      <td>False</td>\n",
       "      <td>False</td>\n",
       "      <td>False</td>\n",
       "      <td>False</td>\n",
       "    </tr>\n",
       "    <tr>\n",
       "      <th>97</th>\n",
       "      <td>False</td>\n",
       "      <td>False</td>\n",
       "      <td>False</td>\n",
       "      <td>False</td>\n",
       "      <td>False</td>\n",
       "      <td>False</td>\n",
       "      <td>False</td>\n",
       "      <td>False</td>\n",
       "    </tr>\n",
       "    <tr>\n",
       "      <th>98</th>\n",
       "      <td>False</td>\n",
       "      <td>False</td>\n",
       "      <td>False</td>\n",
       "      <td>False</td>\n",
       "      <td>False</td>\n",
       "      <td>False</td>\n",
       "      <td>False</td>\n",
       "      <td>False</td>\n",
       "    </tr>\n",
       "  </tbody>\n",
       "</table>\n",
       "<p>99 rows × 8 columns</p>\n",
       "</div>"
      ],
      "text/plain": [
       "    Unnamed: 0  original_Tweets    len     ID   Date  Source  Likes    RTs\n",
       "0        False            False  False  False  False   False  False  False\n",
       "1        False            False  False  False  False   False  False  False\n",
       "2        False            False  False  False  False   False  False  False\n",
       "3        False            False  False  False  False   False  False  False\n",
       "4        False            False  False  False  False   False  False  False\n",
       "..         ...              ...    ...    ...    ...     ...    ...    ...\n",
       "94       False            False  False  False  False   False  False  False\n",
       "95       False            False  False  False  False   False  False  False\n",
       "96       False            False  False  False  False   False  False  False\n",
       "97       False            False  False  False  False   False  False  False\n",
       "98       False            False  False  False  False   False  False  False\n",
       "\n",
       "[99 rows x 8 columns]"
      ]
     },
     "execution_count": 31,
     "metadata": {},
     "output_type": "execute_result"
    }
   ],
   "source": [
    "#To find and fill the missing data in the dataset we will use another function.\n",
    "#There are 4 ways to find the null values if present in the dataset but we ii use one\n",
    "df.isnull()"
   ]
  },
  {
   "cell_type": "code",
   "execution_count": 32,
   "id": "ae382332",
   "metadata": {},
   "outputs": [
    {
     "data": {
      "text/plain": [
       "(99, 8)"
      ]
     },
     "execution_count": 32,
     "metadata": {},
     "output_type": "execute_result"
    }
   ],
   "source": [
    "df.shape # Check the shape after dropping duplicates"
   ]
  },
  {
   "cell_type": "code",
   "execution_count": 33,
   "id": "c05cee1a",
   "metadata": {},
   "outputs": [],
   "source": [
    "df.to_csv('bitcointweets2.csv')"
   ]
  },
  {
   "cell_type": "markdown",
   "id": "19c69f59",
   "metadata": {},
   "source": []
  },
  {
   "cell_type": "markdown",
   "id": "34671a82",
   "metadata": {},
   "source": [
    "# Data analysis of the 3 accounts"
   ]
  },
  {
   "cell_type": "code",
   "execution_count": 34,
   "id": "bfa9de6a",
   "metadata": {},
   "outputs": [
    {
     "data": {
      "text/plain": [
       "50393960"
      ]
     },
     "execution_count": 34,
     "metadata": {},
     "output_type": "execute_result"
    }
   ],
   "source": [
    "#getting my firts account ID\n",
    "Bill = api.get_user(screen_name = 'BillGates')\n",
    "Bill.id"
   ]
  },
  {
   "cell_type": "code",
   "execution_count": 35,
   "id": "ba928025",
   "metadata": {},
   "outputs": [
    {
     "data": {
      "text/plain": [
       "44196397"
      ]
     },
     "execution_count": 35,
     "metadata": {},
     "output_type": "execute_result"
    }
   ],
   "source": [
    "#getting my second account ID\n",
    "Elon = api.get_user(screen_name = 'elonmusk')\n",
    "Elon.id"
   ]
  },
  {
   "cell_type": "code",
   "execution_count": 36,
   "id": "5da98770",
   "metadata": {},
   "outputs": [
    {
     "data": {
      "text/plain": [
       "1339835893"
      ]
     },
     "execution_count": 36,
     "metadata": {},
     "output_type": "execute_result"
    }
   ],
   "source": [
    "#getting my third account ID\n",
    "Hill = api.get_user(screen_name = 'HillaryClinton')\n",
    "Hill.id"
   ]
  },
  {
   "cell_type": "code",
   "execution_count": null,
   "id": "82561b0b",
   "metadata": {},
   "outputs": [],
   "source": []
  },
  {
   "cell_type": "code",
   "execution_count": 37,
   "id": "27830f81",
   "metadata": {},
   "outputs": [
    {
     "name": "stdout",
     "output_type": "stream",
     "text": [
      "User details:\n",
      "Elon Musk\n",
      "\n",
      "\n",
      "Last 20 Followers:\n",
      "Mert Balkan\n",
      "Criechipied\n",
      "Charbel Ibrahim\n",
      "Mzuvukile Mzaca\n",
      "mihaila gabriel\n",
      "Just a Joseph\n",
      "Göran Wallman\n",
      "Brgs\n",
      "propercleanig\n",
      "Jürgen Niedergassel\n",
      "Manuel\n",
      "ezra soler\n",
      "Vxhjj\n",
      "Nebojsa Antonic\n",
      "Nickolas Salas\n",
      "Toprak\n",
      "Krypto Kale\n",
      "Ryan Mignault\n",
      "tutu li\n",
      "Stavros Nipyrakis\n"
     ]
    }
   ],
   "source": [
    "#list of the last 20 followers\n",
    "user = api.get_user(screen_name='elonmusk')\n",
    "\n",
    "print(\"User details:\")\n",
    "print(user.name)\n",
    "print(user.description)\n",
    "print(user.location)\n",
    "\n",
    "print(\"Last 20 Followers:\")\n",
    "for follower in user.followers():\n",
    "    print(follower.name)"
   ]
  },
  {
   "cell_type": "code",
   "execution_count": 38,
   "id": "4a889d42",
   "metadata": {},
   "outputs": [
    {
     "name": "stdout",
     "output_type": "stream",
     "text": [
      "User details:\n",
      "Hillary Clinton\n",
      "2016 Democratic Nominee, SecState, Senator, hair icon. Mom, Wife, Grandma x3, lawyer, advocate, fan of walks in the woods & standing up for our democracy.\n",
      "New York, NY\n",
      "Last 20 Followers:\n",
      "I hate sakura\n",
      "Ibsaye\n",
      "Mohamed N.Khalil\n",
      "Elsa\n",
      "iiwii151\n",
      "Popoola Damilare\n",
      "Nettiereyna8865\n",
      "Jennifer Battleman\n",
      "Naomifay6490\n",
      "Natasha Nanyangwe\n",
      "Ahamed Deedat\n",
      "Tom Thomas\n",
      "سعد ممدوح 316\n",
      "Emmanuel Okereke\n",
      "Dian Purusa\n",
      "Pramir Mallik\n",
      "Jesús Becerra-Hernández\n",
      "Bertaariana7011\n",
      "ОльгаНик\n",
      "Mohamed\n"
     ]
    }
   ],
   "source": [
    "#list of the last 20 followers\n",
    "user = api.get_user(screen_name='HillaryClinton')\n",
    "\n",
    "print(\"User details:\")\n",
    "print(user.name)\n",
    "print(user.description)\n",
    "print(user.location)\n",
    "\n",
    "print(\"Last 20 Followers:\")\n",
    "for follower in user.followers():\n",
    "    print(follower.name)"
   ]
  },
  {
   "cell_type": "code",
   "execution_count": 39,
   "id": "10adb7a9",
   "metadata": {},
   "outputs": [
    {
     "name": "stdout",
     "output_type": "stream",
     "text": [
      "User details:\n",
      "Bill Gates\n",
      "Sharing things I'm learning through my foundation work and other interests.\n",
      "Seattle, WA\n",
      "Last 20 Followers:\n",
      "裴轩\n",
      "Rayhan hossen\n",
      "SlickRickChesty\n",
      "Rosalindshana8353\n",
      "Toprak\n",
      "Joy Patel\n",
      "Aboubaker Saddik\n",
      "Othman Moujtahid\n",
      "Zekarias\n",
      "t one\n",
      "patel dixit\n",
      "Syeda sameena Banu H.A\n",
      "Youth Power Uganda-YPU\n",
      "Irfan Talani\n",
      "Siddhi Bhandari\n",
      "Dr. Haythem Gorashi\n",
      "Oyenola Marvel\n",
      "Hunnitwayz\n",
      "Nettiereyna8865\n",
      "Dr. Elizabeth Neill\n"
     ]
    }
   ],
   "source": [
    "#list of the last 20 followers\n",
    "user = api.get_user(screen_name='BillGates')\n",
    "\n",
    "print(\"User details:\")\n",
    "print(user.name)\n",
    "print(user.description)\n",
    "print(user.location)\n",
    "\n",
    "print(\"Last 20 Followers:\")\n",
    "for follower in user.followers():\n",
    "    print(follower.name)"
   ]
  },
  {
   "cell_type": "code",
   "execution_count": 40,
   "id": "b52bad4c",
   "metadata": {},
   "outputs": [
    {
     "name": "stdout",
     "output_type": "stream",
     "text": [
      "The number of followers of the BILL GATES are : 56347387\n",
      "The number of followers of the ELON MUSK are : 65620874\n",
      "The number of followers of the HILLARY CLINTON are : 31059407\n"
     ]
    }
   ],
   "source": [
    "#Finding the total number of followers for our accounts\n",
    "# fetching the user\n",
    "Bill = api.get_user(screen_name='BillGates')\n",
    "Elon = api.get_user(screen_name='elonmusk')\n",
    "Hill = api.get_user(screen_name='HillaryClinton')\n",
    "  \n",
    "# fetching the followers_count\n",
    "Bill_followers_count = Bill.followers_count\n",
    "Elon_followers_count = Elon.followers_count\n",
    "Hill_followers_count = Hill.followers_count\n",
    "  \n",
    "print(\"The number of followers of the BILL GATES are : \" + str(Bill_followers_count))\n",
    "print(\"The number of followers of the ELON MUSK are : \" + str(Elon_followers_count))\n",
    "print(\"The number of followers of the HILLARY CLINTON are : \" + str(Hill_followers_count))"
   ]
  },
  {
   "cell_type": "code",
   "execution_count": 41,
   "id": "be811548",
   "metadata": {},
   "outputs": [
    {
     "name": "stdout",
     "output_type": "stream",
     "text": [
      "The number of Tweets the BILL GATES has posted are : 3731\n",
      "The number of Tweets the ELON MUSK has posted are : 16229\n",
      "The number of Tweets the HILLARY CLINTON has posted are : 13036\n"
     ]
    }
   ],
   "source": [
    "#totol number of tweets for our 3 accounts\n",
    "# fetching the user\n",
    "Bill = api.get_user(screen_name='BillGates')\n",
    "Elon = api.get_user(screen_name='elonmusk')\n",
    "Hill = api.get_user(screen_name='HillaryClinton')\n",
    "# fetching the statuses_count attribute\n",
    "Bill_statuses_count = Bill.statuses_count\n",
    "Elon_statuses_count = Elon.statuses_count \n",
    "Hill_statuses_count = Hill.statuses_count \n",
    "  \n",
    "print(\"The number of Tweets the BILL GATES has posted are : \" + str(Bill_statuses_count))\n",
    "print(\"The number of Tweets the ELON MUSK has posted are : \" + str(Elon_statuses_count))\n",
    "print(\"The number of Tweets the HILLARY CLINTON has posted are : \" + str(Hill_statuses_count))"
   ]
  },
  {
   "cell_type": "markdown",
   "id": "c37c640d",
   "metadata": {},
   "source": [
    "# EXPLANTION OF THE PROCESS, THE JUSTFACTION BEHIND IT, LESSONS LEARNED AND FINDING\n",
    "\n",
    "### EXPLANATION OF PROCESS\n",
    "\n",
    "First step  i installed tweepy and imported to my .ipynb file\n",
    "\n",
    "Then i connected to My twiiter api using my consumer and access token keys\n",
    "\n",
    "After the connection was established i tested by using command api.status\n",
    "\n",
    "Then i extracted data of the last 300 tweets talking about bitcoin\n",
    "\n",
    "After Data exration i stored it in a csv file where i started analysing\n",
    "\n",
    "I created a pandas dataframe for my dataset for easy identification\n",
    "\n",
    "I preprocessed my data\n",
    "\n",
    "I performed data cleaning and then restore it in another csv file\n",
    "\n",
    "Wow i started analysing data for the popular accounts that is Elon Musk,Bill Gates and Hillary clinton\n",
    "\n",
    "### LESSONS LEARNED \n",
    "I learned data mining using tweepy library\n",
    "\n",
    "I learned that there are two versions of twitter API which have diffrent formants\n",
    "\n",
    "I learned that You can use python tho tweet,retweet,like,unlike block users or do many of the functions a normal user does when using a computer\n",
    "\n",
    "I learned to preprocess data and analyse it\n",
    "\n",
    "I learned to clean data checkinf for missing data and dropping tables for missing data\n",
    "### FINDINS\n",
    "I analysed data of 3 accounts\n",
    "\n",
    "i found out that elon musk has the highest number of followers followed by Bill Gates and the HIllary clinton\n",
    "\n",
    "When i analysed how many they tweeted i realised Hillary clinton was leading followed by bill gates\n",
    "\n",
    "My assumption was Elon Musk is more popular That Bill Gates and Hillary Clinton\n",
    "\n",
    "\n",
    "\n",
    "\n"
   ]
  },
  {
   "cell_type": "markdown",
   "id": "51e36005",
   "metadata": {},
   "source": [
    "# Network analysis\n"
   ]
  },
  {
   "cell_type": "code",
   "execution_count": 137,
   "id": "f391a095",
   "metadata": {},
   "outputs": [
    {
     "name": "stdout",
     "output_type": "stream",
     "text": [
      "GatesWA\n",
      "UN_Water\n",
      "Sida\n",
      "YoYo_Ma\n",
      "DrSamira_Asma\n",
      "WorldDementia\n",
      "SecVilsack\n",
      "rodger_voorhies\n",
      "EUClimateAction\n",
      "EIB\n"
     ]
    }
   ],
   "source": [
    "# printing the latest 10 friends of the BILL GATES\n",
    "for friend in tweepy.Cursor(api.get_friends, screen_name='BillGates').items(10):\n",
    "    print(friend.screen_name)"
   ]
  },
  {
   "cell_type": "code",
   "execution_count": 138,
   "id": "2eeeac12",
   "metadata": {},
   "outputs": [],
   "source": [
    "#creating a network of 10 connections\n",
    "import networkx as nx\n",
    "G_symmetric = nx.Graph()\n",
    "G_symmetric.add_edge('BillGates','GatesWA')\n",
    "G_symmetric.add_edge('BillGates','UN_Water')\n",
    "G_symmetric.add_edge('BillGates','Sida')\n",
    "G_symmetric.add_edge('BillGates','YoYo_Ma')\n",
    "G_symmetric.add_edge('BillGates','DrSamira_Asma')\n",
    "G_symmetric.add_edge('BillGates','WorldDementia')\n",
    "G_symmetric.add_edge('BillGates','rodger_voorhies')\n",
    "G_symmetric.add_edge('BillGates','EUClimateAction')\n",
    "G_symmetric.add_edge('BillGates','EIB')"
   ]
  },
  {
   "cell_type": "code",
   "execution_count": 139,
   "id": "64e1c987",
   "metadata": {},
   "outputs": [
    {
     "name": "stdout",
     "output_type": "stream",
     "text": [
      "Graph with 10 nodes and 9 edges\n"
     ]
    }
   ],
   "source": [
    "# Number of Nodes and Edges\n",
    "print(nx.info(G_symmetric))"
   ]
  },
  {
   "cell_type": "code",
   "execution_count": 140,
   "id": "63a64d06",
   "metadata": {},
   "outputs": [
    {
     "data": {
      "image/png": "[encoded data removed]",
      "text/plain": [
       "<Figure size 720x360 with 1 Axes>"
      ]
     },
     "metadata": {},
     "output_type": "display_data"
    }
   ],
   "source": [
    "#visualizing the connections  BILL GATES\n",
    "import matplotlib.pyplot as plt\n",
    "%matplotlib inline\n",
    "plt.figure(figsize=(10,5))\n",
    "nx.draw_networkx(G_symmetric)"
   ]
  },
  {
   "cell_type": "code",
   "execution_count": 141,
   "id": "18558cdd",
   "metadata": {},
   "outputs": [
    {
     "data": {
      "text/plain": [
       "9"
      ]
     },
     "execution_count": 141,
     "metadata": {},
     "output_type": "execute_result"
    }
   ],
   "source": [
    "#Degree\n",
    "nx.degree(G_symmetric,'BillGates')"
   ]
  },
  {
   "cell_type": "markdown",
   "id": "d24c3c75",
   "metadata": {},
   "source": [
    "### As we can see Bill gates has worked with only nine actors in the network"
   ]
  },
  {
   "cell_type": "markdown",
   "id": "7ed67ff3",
   "metadata": {},
   "source": [
    "# Clustering Coefficient\n",
    "It is observed that people who share connections in a social network tend to form associations. In other words, there is a tendency in a social network to form clusters. We can determine the clusters of a node, Local Clustering Coefficient, which is the fraction of pairs of the node's friends (that is connections) that are connected with each other. To determine the local clustering coefficient, we make use of nx.clustering(Graph, Node) function."
   ]
  },
  {
   "cell_type": "code",
   "execution_count": 142,
   "id": "3509eac2",
   "metadata": {},
   "outputs": [
    {
     "data": {
      "text/plain": [
       "0"
      ]
     },
     "execution_count": 142,
     "metadata": {},
     "output_type": "execute_result"
    }
   ],
   "source": [
    "nx.clustering(G_symmetric, 'BillGates')"
   ]
  },
  {
   "cell_type": "code",
   "execution_count": 143,
   "id": "b8a8ba89",
   "metadata": {},
   "outputs": [
    {
     "data": {
      "text/plain": [
       "0.0"
      ]
     },
     "execution_count": 143,
     "metadata": {},
     "output_type": "execute_result"
    }
   ],
   "source": [
    "#Average\n",
    "nx.average_clustering(G_symmetric)"
   ]
  },
  {
   "cell_type": "markdown",
   "id": "9d9b598d",
   "metadata": {},
   "source": [
    "## Distance\n",
    "We can also determine the shortest path between two nodes and its length in NetworkX"
   ]
  },
  {
   "cell_type": "code",
   "execution_count": 144,
   "id": "8fc65758",
   "metadata": {},
   "outputs": [
    {
     "data": {
      "text/plain": [
       "['BillGates', 'EIB']"
      ]
     },
     "execution_count": 144,
     "metadata": {},
     "output_type": "execute_result"
    }
   ],
   "source": [
    "nx.shortest_path(G_symmetric, 'BillGates', 'EIB')"
   ]
  },
  {
   "cell_type": "markdown",
   "id": "26056ea4",
   "metadata": {},
   "source": [
    "#### This show the number of users bill gates will go through to reach EIB in this case this is the shortest distance"
   ]
  },
  {
   "cell_type": "code",
   "execution_count": 145,
   "id": "8fd6e547",
   "metadata": {},
   "outputs": [
    {
     "data": {
      "text/plain": [
       "['WorldDementia', 'BillGates', 'rodger_voorhies']"
      ]
     },
     "execution_count": 145,
     "metadata": {},
     "output_type": "execute_result"
    }
   ],
   "source": [
    "nx.shortest_path(G_symmetric, 'WorldDementia', 'rodger_voorhies')"
   ]
  },
  {
   "cell_type": "markdown",
   "id": "c59090c2",
   "metadata": {},
   "source": [
    "#### We can find the distance of a node from every other node in the network using breadth-first search algorithm, starting from that node"
   ]
  },
  {
   "cell_type": "code",
   "execution_count": 146,
   "id": "2d7ee8d6",
   "metadata": {},
   "outputs": [
    {
     "data": {
      "text/plain": [
       "1"
      ]
     },
     "execution_count": 146,
     "metadata": {},
     "output_type": "execute_result"
    }
   ],
   "source": [
    "\n",
    "nx.eccentricity(G_symmetric,'BillGates')"
   ]
  },
  {
   "cell_type": "markdown",
   "id": "3549c0c1",
   "metadata": {},
   "source": [
    "### Eccentricity of a node A is defined as the largest distance between A and all other nodes .which meand that Bill Gates is connected to every node"
   ]
  },
  {
   "cell_type": "markdown",
   "id": "30623eb8",
   "metadata": {},
   "source": [
    "## Network Influencers\n"
   ]
  },
  {
   "cell_type": "markdown",
   "id": "6c947cd8",
   "metadata": {},
   "source": [
    "### Degree Centrality\n",
    "The people most popular or more liked usually are the ones who have more friends. \n",
    "Degree centrality is a measure of the number of connections a particular node has in the network. It is based on the fact that important nodes have many connections.\n",
    "NetworkX has the function degree_centrality() to calculate the degree centrality of all the nodes of a network"
   ]
  },
  {
   "cell_type": "code",
   "execution_count": 147,
   "id": "b25dc3fe",
   "metadata": {},
   "outputs": [
    {
     "data": {
      "text/plain": [
       "{'BillGates': 1.0,\n",
       " 'GatesWA': 0.1111111111111111,\n",
       " 'UN_Water': 0.1111111111111111,\n",
       " 'Sida': 0.1111111111111111,\n",
       " 'YoYo_Ma': 0.1111111111111111,\n",
       " 'DrSamira_Asma': 0.1111111111111111,\n",
       " 'WorldDementia': 0.1111111111111111,\n",
       " 'rodger_voorhies': 0.1111111111111111,\n",
       " 'EUClimateAction': 0.1111111111111111,\n",
       " 'EIB': 0.1111111111111111}"
      ]
     },
     "execution_count": 147,
     "metadata": {},
     "output_type": "execute_result"
    }
   ],
   "source": [
    "nx.degree_centrality(G_symmetric)"
   ]
  },
  {
   "cell_type": "markdown",
   "id": "1a2c8c9d",
   "metadata": {},
   "source": [
    "## Eigenvector Centrality\n",
    "It is not just how many individuals one is connected too, but the type of people one is connected with that can decide the importance of a node"
   ]
  },
  {
   "cell_type": "code",
   "execution_count": 148,
   "id": "d9dbc52e",
   "metadata": {},
   "outputs": [
    {
     "data": {
      "text/plain": [
       "{'BillGates': 0.7071074555358021,\n",
       " 'GatesWA': 0.23570203561221656,\n",
       " 'UN_Water': 0.23570203561221656,\n",
       " 'Sida': 0.23570203561221656,\n",
       " 'YoYo_Ma': 0.23570203561221656,\n",
       " 'DrSamira_Asma': 0.23570203561221656,\n",
       " 'WorldDementia': 0.23570203561221656,\n",
       " 'rodger_voorhies': 0.23570203561221656,\n",
       " 'EUClimateAction': 0.23570203561221656,\n",
       " 'EIB': 0.23570203561221656}"
      ]
     },
     "execution_count": 148,
     "metadata": {},
     "output_type": "execute_result"
    }
   ],
   "source": [
    "nx.eigenvector_centrality(G_symmetric)"
   ]
  },
  {
   "cell_type": "markdown",
   "id": "1a5d1d95",
   "metadata": {},
   "source": [
    "# Betweenness Centrality\n",
    "It represents the frequency at which a point occurs on the shortest paths that connected pair of points. It quantifies how many times a particular node comes in the shortest chosen path between two other nodes."
   ]
  },
  {
   "cell_type": "code",
   "execution_count": 149,
   "id": "b9bdb7f8",
   "metadata": {},
   "outputs": [
    {
     "data": {
      "text/plain": [
       "{'BillGates': 1.0,\n",
       " 'GatesWA': 0.0,\n",
       " 'UN_Water': 0.0,\n",
       " 'Sida': 0.0,\n",
       " 'YoYo_Ma': 0.0,\n",
       " 'DrSamira_Asma': 0.0,\n",
       " 'WorldDementia': 0.0,\n",
       " 'rodger_voorhies': 0.0,\n",
       " 'EUClimateAction': 0.0,\n",
       " 'EIB': 0.0}"
      ]
     },
     "execution_count": 149,
     "metadata": {},
     "output_type": "execute_result"
    }
   ],
   "source": [
    "nx.betweenness_centrality(G_symmetric)\n"
   ]
  },
  {
   "cell_type": "code",
   "execution_count": 150,
   "id": "c15a2467",
   "metadata": {},
   "outputs": [
    {
     "data": {
      "image/png": "[encoded data removed]",
      "text/plain": [
       "<Figure size 720x720 with 1 Axes>"
      ]
     },
     "metadata": {},
     "output_type": "display_data"
    }
   ],
   "source": [
    "pos = nx.spring_layout(G_symmetric)\n",
    "betCent = nx.betweenness_centrality(G_symmetric, normalized=True, endpoints=True)\n",
    "node_color = [20000.0 * G_symmetric.degree(v) for v in G_symmetric]\n",
    "node_size =  [v * 10000 for v in betCent.values()]\n",
    "plt.figure(figsize=(10,10))\n",
    "nx.draw_networkx(G_symmetric, pos=pos, with_labels=True,\n",
    "                 node_color=node_color,\n",
    "                 node_size=node_size )\n",
    "plt.axis('off');"
   ]
  },
  {
   "cell_type": "code",
   "execution_count": 151,
   "id": "0ea221b1",
   "metadata": {},
   "outputs": [
    {
     "data": {
      "text/plain": [
       "['BillGates', 'GatesWA', 'UN_Water', 'Sida', 'YoYo_Ma']"
      ]
     },
     "execution_count": 151,
     "metadata": {},
     "output_type": "execute_result"
    }
   ],
   "source": [
    "sorted(betCent, key=betCent.get, reverse=True)[:5]"
   ]
  },
  {
   "cell_type": "markdown",
   "id": "c9041aad",
   "metadata": {},
   "source": [
    "### The nodes with high betweenness centrality play a significant role in the communication/information flow within the network.\n",
    "\n",
    "The nodes with high betweenness centrality can have a strategic control and influence on others. An individual at such a strategic position can influence the whole group, by either withholding or coloring the information in transmission.\n",
    "\n",
    "Networkx has the function betweenness_centrality() to measure it for the network. It has options to select if we want betweenness values to be normalized or not, weights to be included in centrality calculation or not, and to include the endpoints in the shortest path counts or not"
   ]
  },
  {
   "cell_type": "code",
   "execution_count": 152,
   "id": "3a52c214",
   "metadata": {},
   "outputs": [
    {
     "name": "stdout",
     "output_type": "stream",
     "text": [
      "EuropaClipper\n",
      "paraga\n",
      "TheBabylonBee\n",
      "BillyM2k\n",
      "Rainmaker1973\n",
      "inspiration4x\n",
      "CNSAWatcher\n",
      "gigadgets_\n",
      "slashdot\n",
      "thesheetztweetz\n"
     ]
    }
   ],
   "source": [
    "# printing the latest 10 friends of the ELON MUSK\n",
    "for friend in tweepy.Cursor(api.get_friends, screen_name='elonmusk').items(10):\n",
    "    print(friend.screen_name)"
   ]
  },
  {
   "cell_type": "code",
   "execution_count": 153,
   "id": "71c80218",
   "metadata": {},
   "outputs": [],
   "source": [
    "import networkx as nx1\n",
    "G_symmetric = nx1.Graph()\n",
    "G_symmetric.add_edge('elonmusk','EuropaClipper')\n",
    "G_symmetric.add_edge('elonmusk','paraga')\n",
    "G_symmetric.add_edge('elonmusk','TheBabylonBee')\n",
    "G_symmetric.add_edge('elonmusk','BillyM2k')\n",
    "G_symmetric.add_edge('elonmusk','Rainmaker1973')\n",
    "G_symmetric.add_edge('elonmusk ','inspiration4x')\n",
    "G_symmetric.add_edge('elonmusk ','CNSAWatcher')\n",
    "G_symmetric.add_edge('elonmusk','gigadgets_')\n",
    "G_symmetric.add_edge('elonmusk','thesheetztweetz')\n",
    "G_symmetric.add_edge('elonmusk','slashdot')"
   ]
  },
  {
   "cell_type": "code",
   "execution_count": 154,
   "id": "80448ada",
   "metadata": {},
   "outputs": [
    {
     "data": {
      "image/png": "[encoded data removed]",
      "text/plain": [
       "<Figure size 864x360 with 1 Axes>"
      ]
     },
     "metadata": {},
     "output_type": "display_data"
    }
   ],
   "source": [
    "#visualizing the connections for ELON MUSK \n",
    "plt.figure(figsize=(12,5))\n",
    "nx1.draw_networkx(G_symmetric)"
   ]
  },
  {
   "cell_type": "code",
   "execution_count": 155,
   "id": "67daa643",
   "metadata": {},
   "outputs": [
    {
     "data": {
      "text/plain": [
       "8"
      ]
     },
     "execution_count": 155,
     "metadata": {},
     "output_type": "execute_result"
    }
   ],
   "source": [
    "#Degree\n",
    "nx1.degree(G_symmetric,'elonmusk')"
   ]
  },
  {
   "cell_type": "code",
   "execution_count": 157,
   "id": "30f9c68b",
   "metadata": {},
   "outputs": [
    {
     "data": {
      "text/plain": [
       "0"
      ]
     },
     "execution_count": 157,
     "metadata": {},
     "output_type": "execute_result"
    }
   ],
   "source": [
    "nx1.clustering(G_symmetric, 'elonmusk')"
   ]
  },
  {
   "cell_type": "code",
   "execution_count": 158,
   "id": "c3cc74d7",
   "metadata": {},
   "outputs": [
    {
     "name": "stdout",
     "output_type": "stream",
     "text": [
      "TraceeEllisRoss\n",
      "BenAffleck\n",
      "MaEllenSirleaf\n",
      "SkyGroup\n",
      "InstituteGC\n",
      "katrinjak\n",
      "PrifWeinidog\n",
      "wmarybeard\n",
      "SlaughterAM\n",
      "JustinTrudeau\n"
     ]
    }
   ],
   "source": [
    "# printing the latest 10 friends of the HILLARY CLINTON\n",
    "import tweepy\n",
    "for friend in tweepy.Cursor(api.get_friends, screen_name='HillaryClinton').items(10):\n",
    "    print(friend.screen_name)"
   ]
  },
  {
   "cell_type": "code",
   "execution_count": 159,
   "id": "90f11be7",
   "metadata": {},
   "outputs": [],
   "source": [
    "import networkx as nx2\n",
    "G_symmetric = nx2.Graph()\n",
    "G_symmetric.add_edge('HillaryClinton','MaEllenSirlea')\n",
    "G_symmetric.add_edge('HillaryClinton','SkyGroup')\n",
    "G_symmetric.add_edge('HillaryClinton','InstituteGC')\n",
    "G_symmetric.add_edge('HillaryClinton','katrinjak')\n",
    "G_symmetric.add_edge('HillaryClinton','PrifWeinidog')\n",
    "G_symmetric.add_edge('HillaryClinton ','wmarybeard')\n",
    "G_symmetric.add_edge('HillaryClinton ','SlaughterAM')\n",
    "G_symmetric.add_edge('HillaryClinton','JustinTrudeau')\n",
    "G_symmetric.add_edge('HillaryClinton','votefwd')\n",
    "G_symmetric.add_edge('HillaryClinton','tylerperry')"
   ]
  },
  {
   "cell_type": "code",
   "execution_count": 160,
   "id": "9b8bd3ca",
   "metadata": {},
   "outputs": [
    {
     "data": {
      "image/png": "[encoded data removed]",
      "text/plain": [
       "<Figure size 864x360 with 1 Axes>"
      ]
     },
     "metadata": {},
     "output_type": "display_data"
    }
   ],
   "source": [
    "#visualizing the connections for HILLARY CLINTON\n",
    "plt.figure(figsize=(12,5))\n",
    "nx2.draw_networkx(G_symmetric)"
   ]
  },
  {
   "cell_type": "code",
   "execution_count": 161,
   "id": "88199578",
   "metadata": {},
   "outputs": [
    {
     "data": {
      "text/plain": [
       "8"
      ]
     },
     "execution_count": 161,
     "metadata": {},
     "output_type": "execute_result"
    }
   ],
   "source": [
    "#Degree\n",
    "nx2.degree(G_symmetric,'HillaryClinton')"
   ]
  },
  {
   "cell_type": "markdown",
   "id": "a8240357",
   "metadata": {},
   "source": [
    "## Clustering Coefficient For hillary Clinton Network"
   ]
  },
  {
   "cell_type": "code",
   "execution_count": 162,
   "id": "6863ebad",
   "metadata": {},
   "outputs": [
    {
     "data": {
      "text/plain": [
       "0"
      ]
     },
     "execution_count": 162,
     "metadata": {},
     "output_type": "execute_result"
    }
   ],
   "source": [
    "nx2.clustering(G_symmetric, 'HillaryClinton')"
   ]
  },
  {
   "cell_type": "markdown",
   "id": "44354672",
   "metadata": {},
   "source": [
    "### Degree Centrality"
   ]
  },
  {
   "cell_type": "code",
   "execution_count": 163,
   "id": "bb7c7f14",
   "metadata": {},
   "outputs": [
    {
     "data": {
      "text/plain": [
       "{'HillaryClinton': 0.7272727272727273,\n",
       " 'MaEllenSirlea': 0.09090909090909091,\n",
       " 'SkyGroup': 0.09090909090909091,\n",
       " 'InstituteGC': 0.09090909090909091,\n",
       " 'katrinjak': 0.09090909090909091,\n",
       " 'PrifWeinidog': 0.09090909090909091,\n",
       " 'HillaryClinton ': 0.18181818181818182,\n",
       " 'wmarybeard': 0.09090909090909091,\n",
       " 'SlaughterAM': 0.09090909090909091,\n",
       " 'JustinTrudeau': 0.09090909090909091,\n",
       " 'votefwd': 0.09090909090909091,\n",
       " 'tylerperry': 0.09090909090909091}"
      ]
     },
     "execution_count": 163,
     "metadata": {},
     "output_type": "execute_result"
    }
   ],
   "source": [
    "nx2.degree_centrality(G_symmetric)"
   ]
  },
  {
   "cell_type": "markdown",
   "id": "703f9af4",
   "metadata": {},
   "source": [
    "### Eigenvector Centrality"
   ]
  },
  {
   "cell_type": "code",
   "execution_count": 164,
   "id": "14d8ef17",
   "metadata": {},
   "outputs": [
    {
     "data": {
      "text/plain": [
       "{'HillaryClinton': 0.7071067744546117,\n",
       " 'MaEllenSirlea': 0.2500000023557931,\n",
       " 'SkyGroup': 0.2500000023557931,\n",
       " 'InstituteGC': 0.2500000023557931,\n",
       " 'katrinjak': 0.2500000023557931,\n",
       " 'PrifWeinidog': 0.2500000023557931,\n",
       " 'HillaryClinton ': 6.9721628268841435e-06,\n",
       " 'wmarybeard': 4.930063614426547e-06,\n",
       " 'SlaughterAM': 4.930063614426547e-06,\n",
       " 'JustinTrudeau': 0.2500000023557931,\n",
       " 'votefwd': 0.2500000023557931,\n",
       " 'tylerperry': 0.2500000023557931}"
      ]
     },
     "execution_count": 164,
     "metadata": {},
     "output_type": "execute_result"
    }
   ],
   "source": [
    "nx2.eigenvector_centrality(G_symmetric)"
   ]
  },
  {
   "cell_type": "markdown",
   "id": "7df52543",
   "metadata": {},
   "source": [
    "#### Betweenness Centrality"
   ]
  },
  {
   "cell_type": "code",
   "execution_count": 165,
   "id": "13f20462",
   "metadata": {},
   "outputs": [
    {
     "data": {
      "text/plain": [
       "{'HillaryClinton': 0.509090909090909,\n",
       " 'MaEllenSirlea': 0.0,\n",
       " 'SkyGroup': 0.0,\n",
       " 'InstituteGC': 0.0,\n",
       " 'katrinjak': 0.0,\n",
       " 'PrifWeinidog': 0.0,\n",
       " 'HillaryClinton ': 0.01818181818181818,\n",
       " 'wmarybeard': 0.0,\n",
       " 'SlaughterAM': 0.0,\n",
       " 'JustinTrudeau': 0.0,\n",
       " 'votefwd': 0.0,\n",
       " 'tylerperry': 0.0}"
      ]
     },
     "execution_count": 165,
     "metadata": {},
     "output_type": "execute_result"
    }
   ],
   "source": [
    "nx2.betweenness_centrality(G_symmetric)"
   ]
  },
  {
   "cell_type": "code",
   "execution_count": 166,
   "id": "dd1c6f45",
   "metadata": {},
   "outputs": [
    {
     "data": {
      "image/png": "[encoded data removed]",
      "text/plain": [
       "<Figure size 720x720 with 1 Axes>"
      ]
     },
     "metadata": {},
     "output_type": "display_data"
    }
   ],
   "source": [
    "pos = nx.spring_layout(G_symmetric)\n",
    "betCent = nx.betweenness_centrality(G_symmetric, normalized=True, endpoints=True)\n",
    "node_color = [20000.0 * G_symmetric.degree(v) for v in G_symmetric]\n",
    "node_size =  [v * 10000 for v in betCent.values()]\n",
    "plt.figure(figsize=(10,10))\n",
    "nx.draw_networkx(G_symmetric, pos=pos, with_labels=True,\n",
    "                 node_color=node_color,\n",
    "                 node_size=node_size )\n",
    "plt.axis('off');"
   ]
  },
  {
   "cell_type": "markdown",
   "id": "70711e2f",
   "metadata": {},
   "source": [
    "# CONCLUSIONS AND LESSSONS LEARNED\n",
    "\n",
    "### CONCLUSION\n",
    "\n",
    "In this task i performed network analysis of my three influencers i.e Bill Gates,Elon Musk and Hillary clinton\n",
    "\n",
    "First i had to find a number of their friends in this case i only printed 10 as inqured that i hade to used 10 for both\n",
    "\n",
    "Then i used networkX to graphically represent my data which i mannually reprented \n",
    "\n",
    "After calculating the statistics of my influencers my results were\n",
    "\n",
    "##### Bill Gates\n",
    "▪ Degree Distribution=9\n",
    "\n",
    "▪ Cluster coefficient=0\n",
    "\n",
    "▪ Betweenness Centrality=1.0\n",
    "\n",
    "▪ Assortativity=0.7071074555358021\n",
    "##### Hillary clinton\n",
    "▪ Degree Distribution=8\n",
    "\n",
    "▪ Cluster coefficient=0\n",
    "\n",
    "▪ Betweenness Centrality=0.01818181818181818\n",
    "\n",
    "▪ Assortativity= 0.7071067744546117\n",
    "\n",
    "## LESSONS LEARNED\n",
    "I learned how to used networkx to represent a particular network \n",
    "\n",
    "I learned that Network analysis is an imporntant practice where it make me understand relationshis i.e\n",
    "Node and Edge ,parent and child\n",
    "\n",
    "I learned that network analysis easly makes know how much an influencer is populer\n",
    "\n",
    "I learned that We can also visualize the network such that the node color varies with Degree and node size with Betweenness Centrality\n",
    "\n",
    "I learned that The Betweenness Centrality is the centrality of control.\n",
    "It represents the frequency at which a point occurs on the geodesic (shortest paths) that connected pair of points.\n",
    "It quantifies how many times a particular node comes in the shortest chosen path between two other nodes\n",
    "\n",
    "\n",
    "\n",
    "\n"
   ]
  },
  {
   "cell_type": "code",
   "execution_count": null,
   "id": "d82d0ae4",
   "metadata": {},
   "outputs": [],
   "source": []
  }
 ],
 "metadata": {
  "kernelspec": {
   "display_name": "Python 3 (ipykernel)",
   "language": "python",
   "name": "python3"
  },
  "language_info": {
   "codemirror_mode": {
    "name": "ipython",
    "version": 3
   },
   "file_extension": ".py",
   "mimetype": "text/x-python",
   "name": "python",
   "nbconvert_exporter": "python",
   "pygments_lexer": "ipython3",
   "version": "3.8.10"
  }
 },
 "nbformat": 4,
 "nbformat_minor": 5
}
